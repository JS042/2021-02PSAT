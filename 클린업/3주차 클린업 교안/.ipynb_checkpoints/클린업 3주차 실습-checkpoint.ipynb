{
 "cells": [
  {
   "cell_type": "markdown",
   "metadata": {},
   "source": [
    "## 1. 인코딩 및 평가지표 실습"
   ]
  },
  {
   "cell_type": "code",
   "execution_count": 1,
   "metadata": {},
   "outputs": [],
   "source": [
    "import warnings  \n",
    "warnings.filterwarnings(action=\"ignore\")"
   ]
  },
  {
   "cell_type": "code",
   "execution_count": 2,
   "metadata": {},
   "outputs": [],
   "source": [
    "#파이썬에서 R처럼 데이터프레임을 사용하기 위한 라이브러리 호출\n",
    "import pandas as pd\n",
    "\n",
    "#데이터 불러오기\n",
    "data = pd.read_csv('타이타닉 data.csv')  #R의 read.csv()\n",
    "\n",
    "#Age 변수를 구간 나눠서 순서형 범주 변수로 변환 (수준5개)\n",
    "data['Agegroup'] =  pd.cut(x=data['Age'],bins=5,labels=['baby','young','middle age','old','very old'])\n",
    "\n",
    "#안 쓸 변수 제거\n",
    "data.drop(['PassengerId','Name','Pclass','SibSp','Parch', 'Ticket', 'Cabin', 'Age'],axis=1,inplace=True) \n",
    "\n",
    "#NA 있는 행 제거 (원래는 무작정 제거하면 안됩니다...!)\n",
    "data.dropna(axis=0, inplace = True)#inlpace=True하면 원본 데이터 알아서 바뀜\n",
    "data.isna().sum()#NA 있는 열 확인\n",
    "data.reset_index(drop=True,inplace=True) #인덱스 리셋 \n"
   ]
  },
  {
   "cell_type": "code",
   "execution_count": 5,
   "metadata": {},
   "outputs": [
    {
     "data": {
      "text/html": [
       "<div>\n",
       "<style scoped>\n",
       "    .dataframe tbody tr th:only-of-type {\n",
       "        vertical-align: middle;\n",
       "    }\n",
       "\n",
       "    .dataframe tbody tr th {\n",
       "        vertical-align: top;\n",
       "    }\n",
       "\n",
       "    .dataframe thead th {\n",
       "        text-align: right;\n",
       "    }\n",
       "</style>\n",
       "<table border=\"1\" class=\"dataframe\">\n",
       "  <thead>\n",
       "    <tr style=\"text-align: right;\">\n",
       "      <th></th>\n",
       "      <th>Survived</th>\n",
       "      <th>Sex</th>\n",
       "      <th>Fare</th>\n",
       "      <th>Embarked</th>\n",
       "      <th>Agegroup</th>\n",
       "    </tr>\n",
       "  </thead>\n",
       "  <tbody>\n",
       "    <tr>\n",
       "      <th>0</th>\n",
       "      <td>0</td>\n",
       "      <td>male</td>\n",
       "      <td>7.2500</td>\n",
       "      <td>S</td>\n",
       "      <td>young</td>\n",
       "    </tr>\n",
       "    <tr>\n",
       "      <th>1</th>\n",
       "      <td>1</td>\n",
       "      <td>female</td>\n",
       "      <td>71.2833</td>\n",
       "      <td>C</td>\n",
       "      <td>middle age</td>\n",
       "    </tr>\n",
       "    <tr>\n",
       "      <th>2</th>\n",
       "      <td>1</td>\n",
       "      <td>female</td>\n",
       "      <td>7.9250</td>\n",
       "      <td>S</td>\n",
       "      <td>young</td>\n",
       "    </tr>\n",
       "    <tr>\n",
       "      <th>3</th>\n",
       "      <td>1</td>\n",
       "      <td>female</td>\n",
       "      <td>53.1000</td>\n",
       "      <td>S</td>\n",
       "      <td>middle age</td>\n",
       "    </tr>\n",
       "    <tr>\n",
       "      <th>4</th>\n",
       "      <td>0</td>\n",
       "      <td>male</td>\n",
       "      <td>8.0500</td>\n",
       "      <td>S</td>\n",
       "      <td>middle age</td>\n",
       "    </tr>\n",
       "  </tbody>\n",
       "</table>\n",
       "</div>"
      ],
      "text/plain": [
       "   Survived     Sex     Fare Embarked    Agegroup\n",
       "0         0    male   7.2500        S       young\n",
       "1         1  female  71.2833        C  middle age\n",
       "2         1  female   7.9250        S       young\n",
       "3         1  female  53.1000        S  middle age\n",
       "4         0    male   8.0500        S  middle age"
      ]
     },
     "execution_count": 5,
     "metadata": {},
     "output_type": "execute_result"
    }
   ],
   "source": [
    "data.head()"
   ]
  },
  {
   "cell_type": "markdown",
   "metadata": {},
   "source": [
    "#### 1. Agegroup 변수에 Ordinal Encoding 적용"
   ]
  },
  {
   "cell_type": "code",
   "execution_count": 6,
   "metadata": {},
   "outputs": [
    {
     "data": {
      "text/plain": [
       "0           young\n",
       "1      middle age\n",
       "2           young\n",
       "3      middle age\n",
       "4      middle age\n",
       "          ...    \n",
       "707    middle age\n",
       "708         young\n",
       "709         young\n",
       "710         young\n",
       "711         young\n",
       "Name: Agegroup, Length: 712, dtype: category\n",
       "Categories (5, object): ['baby' < 'young' < 'middle age' < 'old' < 'very old']"
      ]
     },
     "execution_count": 6,
     "metadata": {},
     "output_type": "execute_result"
    }
   ],
   "source": [
    "data['Agegroup']"
   ]
  },
  {
   "cell_type": "code",
   "execution_count": 7,
   "metadata": {
    "scrolled": true
   },
   "outputs": [
    {
     "data": {
      "text/html": [
       "<div>\n",
       "<style scoped>\n",
       "    .dataframe tbody tr th:only-of-type {\n",
       "        vertical-align: middle;\n",
       "    }\n",
       "\n",
       "    .dataframe tbody tr th {\n",
       "        vertical-align: top;\n",
       "    }\n",
       "\n",
       "    .dataframe thead th {\n",
       "        text-align: right;\n",
       "    }\n",
       "</style>\n",
       "<table border=\"1\" class=\"dataframe\">\n",
       "  <thead>\n",
       "    <tr style=\"text-align: right;\">\n",
       "      <th></th>\n",
       "      <th>Survived</th>\n",
       "      <th>Sex</th>\n",
       "      <th>Fare</th>\n",
       "      <th>Embarked</th>\n",
       "      <th>Agegroup</th>\n",
       "    </tr>\n",
       "  </thead>\n",
       "  <tbody>\n",
       "    <tr>\n",
       "      <th>0</th>\n",
       "      <td>0</td>\n",
       "      <td>male</td>\n",
       "      <td>7.2500</td>\n",
       "      <td>S</td>\n",
       "      <td>2</td>\n",
       "    </tr>\n",
       "    <tr>\n",
       "      <th>1</th>\n",
       "      <td>1</td>\n",
       "      <td>female</td>\n",
       "      <td>71.2833</td>\n",
       "      <td>C</td>\n",
       "      <td>3</td>\n",
       "    </tr>\n",
       "    <tr>\n",
       "      <th>2</th>\n",
       "      <td>1</td>\n",
       "      <td>female</td>\n",
       "      <td>7.9250</td>\n",
       "      <td>S</td>\n",
       "      <td>2</td>\n",
       "    </tr>\n",
       "    <tr>\n",
       "      <th>3</th>\n",
       "      <td>1</td>\n",
       "      <td>female</td>\n",
       "      <td>53.1000</td>\n",
       "      <td>S</td>\n",
       "      <td>3</td>\n",
       "    </tr>\n",
       "    <tr>\n",
       "      <th>4</th>\n",
       "      <td>0</td>\n",
       "      <td>male</td>\n",
       "      <td>8.0500</td>\n",
       "      <td>S</td>\n",
       "      <td>3</td>\n",
       "    </tr>\n",
       "  </tbody>\n",
       "</table>\n",
       "</div>"
      ],
      "text/plain": [
       "   Survived     Sex     Fare Embarked Agegroup\n",
       "0         0    male   7.2500        S        2\n",
       "1         1  female  71.2833        C        3\n",
       "2         1  female   7.9250        S        2\n",
       "3         1  female  53.1000        S        3\n",
       "4         0    male   8.0500        S        3"
      ]
     },
     "execution_count": 7,
     "metadata": {},
     "output_type": "execute_result"
    }
   ],
   "source": [
    "##1. map 사용\n",
    "#순서도 같이 입력해주어야함\n",
    "seq = {'baby' : 1, 'young' : 2, 'middle age' : 3, 'old' : 4, 'very old' : 5}\n",
    "data['Agegroup'] = data['Agegroup'].map(seq)\n",
    "data.head()"
   ]
  },
  {
   "cell_type": "code",
   "execution_count": 9,
   "metadata": {
    "scrolled": true
   },
   "outputs": [
    {
     "data": {
      "text/html": [
       "<div>\n",
       "<style scoped>\n",
       "    .dataframe tbody tr th:only-of-type {\n",
       "        vertical-align: middle;\n",
       "    }\n",
       "\n",
       "    .dataframe tbody tr th {\n",
       "        vertical-align: top;\n",
       "    }\n",
       "\n",
       "    .dataframe thead th {\n",
       "        text-align: right;\n",
       "    }\n",
       "</style>\n",
       "<table border=\"1\" class=\"dataframe\">\n",
       "  <thead>\n",
       "    <tr style=\"text-align: right;\">\n",
       "      <th></th>\n",
       "      <th>Survived</th>\n",
       "      <th>Sex</th>\n",
       "      <th>Fare</th>\n",
       "      <th>Embarked</th>\n",
       "      <th>Agegroup</th>\n",
       "    </tr>\n",
       "  </thead>\n",
       "  <tbody>\n",
       "    <tr>\n",
       "      <th>0</th>\n",
       "      <td>0</td>\n",
       "      <td>male</td>\n",
       "      <td>7.2500</td>\n",
       "      <td>S</td>\n",
       "      <td>1.0</td>\n",
       "    </tr>\n",
       "    <tr>\n",
       "      <th>1</th>\n",
       "      <td>1</td>\n",
       "      <td>female</td>\n",
       "      <td>71.2833</td>\n",
       "      <td>C</td>\n",
       "      <td>2.0</td>\n",
       "    </tr>\n",
       "    <tr>\n",
       "      <th>2</th>\n",
       "      <td>1</td>\n",
       "      <td>female</td>\n",
       "      <td>7.9250</td>\n",
       "      <td>S</td>\n",
       "      <td>1.0</td>\n",
       "    </tr>\n",
       "    <tr>\n",
       "      <th>3</th>\n",
       "      <td>1</td>\n",
       "      <td>female</td>\n",
       "      <td>53.1000</td>\n",
       "      <td>S</td>\n",
       "      <td>2.0</td>\n",
       "    </tr>\n",
       "    <tr>\n",
       "      <th>4</th>\n",
       "      <td>0</td>\n",
       "      <td>male</td>\n",
       "      <td>8.0500</td>\n",
       "      <td>S</td>\n",
       "      <td>2.0</td>\n",
       "    </tr>\n",
       "  </tbody>\n",
       "</table>\n",
       "</div>"
      ],
      "text/plain": [
       "   Survived     Sex     Fare Embarked  Agegroup\n",
       "0         0    male   7.2500        S       1.0\n",
       "1         1  female  71.2833        C       2.0\n",
       "2         1  female   7.9250        S       1.0\n",
       "3         1  female  53.1000        S       2.0\n",
       "4         0    male   8.0500        S       2.0"
      ]
     },
     "execution_count": 9,
     "metadata": {},
     "output_type": "execute_result"
    }
   ],
   "source": [
    "##2. category_encoders의 OrdinalEncoder\n",
    "\n",
    "data2 = data.copy() #원본데이터 수정 막기위해 다른 곳에 저장\n",
    "\n",
    "from sklearn.preprocessing import OrdinalEncoder\n",
    "enc = OrdinalEncoder()\n",
    "data2['Agegroup'] = enc.fit_transform(data2[['Agegroup']])\n",
    "data2.head()\n",
    "\n",
    "# data['Agegroup']은 이미 순서정보가 저장되어 있는 변수이기 때문에 \n",
    "# 우리가 원하는 순서대로 encoding이 된 것!\n",
    "# 따라서 이 방법을 사용하려면 변수가 \"순서가 있는 category형 변수\"여야 함\n",
    "# + Label Encoding과도 차이를 주기 위함!"
   ]
  },
  {
   "cell_type": "code",
   "execution_count": 11,
   "metadata": {},
   "outputs": [
    {
     "data": {
      "text/plain": [
       "0      S\n",
       "1      C\n",
       "2      S\n",
       "3      S\n",
       "4      S\n",
       "      ..\n",
       "707    Q\n",
       "708    S\n",
       "709    S\n",
       "710    C\n",
       "711    Q\n",
       "Name: Embarked, Length: 712, dtype: category\n",
       "Categories (3, object): ['S' < 'C' < 'Q']"
      ]
     },
     "execution_count": 11,
     "metadata": {},
     "output_type": "execute_result"
    }
   ],
   "source": [
    "#순서 정보 집어넣는 법\n",
    "# pd.Categorical() 사용\n",
    "data3 = data.copy() #원본데이터 수정 막기위해 다른 곳에 저장\n",
    "data3['Embarked']=pd.Categorical(data3['Embarked'],categories=['S','C','Q'], ordered=True)\n",
    "data3['Embarked']"
   ]
  },
  {
   "cell_type": "markdown",
   "metadata": {},
   "source": [
    "#### 2. Embarked 변수에 One Hot Encoding 적용   \n",
    " - Embarked는 탑승지역을 의미하는 변수\n",
    " - level : C/Q/S로 3개"
   ]
  },
  {
   "cell_type": "code",
   "execution_count": 12,
   "metadata": {},
   "outputs": [
    {
     "data": {
      "text/html": [
       "<div>\n",
       "<style scoped>\n",
       "    .dataframe tbody tr th:only-of-type {\n",
       "        vertical-align: middle;\n",
       "    }\n",
       "\n",
       "    .dataframe tbody tr th {\n",
       "        vertical-align: top;\n",
       "    }\n",
       "\n",
       "    .dataframe thead th {\n",
       "        text-align: right;\n",
       "    }\n",
       "</style>\n",
       "<table border=\"1\" class=\"dataframe\">\n",
       "  <thead>\n",
       "    <tr style=\"text-align: right;\">\n",
       "      <th></th>\n",
       "      <th>Survived</th>\n",
       "      <th>Sex</th>\n",
       "      <th>Fare</th>\n",
       "      <th>Agegroup</th>\n",
       "      <th>Embarked_C</th>\n",
       "      <th>Embarked_Q</th>\n",
       "      <th>Embarked_S</th>\n",
       "    </tr>\n",
       "  </thead>\n",
       "  <tbody>\n",
       "    <tr>\n",
       "      <th>0</th>\n",
       "      <td>0</td>\n",
       "      <td>male</td>\n",
       "      <td>7.2500</td>\n",
       "      <td>2</td>\n",
       "      <td>0</td>\n",
       "      <td>0</td>\n",
       "      <td>1</td>\n",
       "    </tr>\n",
       "    <tr>\n",
       "      <th>1</th>\n",
       "      <td>1</td>\n",
       "      <td>female</td>\n",
       "      <td>71.2833</td>\n",
       "      <td>3</td>\n",
       "      <td>1</td>\n",
       "      <td>0</td>\n",
       "      <td>0</td>\n",
       "    </tr>\n",
       "    <tr>\n",
       "      <th>2</th>\n",
       "      <td>1</td>\n",
       "      <td>female</td>\n",
       "      <td>7.9250</td>\n",
       "      <td>2</td>\n",
       "      <td>0</td>\n",
       "      <td>0</td>\n",
       "      <td>1</td>\n",
       "    </tr>\n",
       "    <tr>\n",
       "      <th>3</th>\n",
       "      <td>1</td>\n",
       "      <td>female</td>\n",
       "      <td>53.1000</td>\n",
       "      <td>3</td>\n",
       "      <td>0</td>\n",
       "      <td>0</td>\n",
       "      <td>1</td>\n",
       "    </tr>\n",
       "    <tr>\n",
       "      <th>4</th>\n",
       "      <td>0</td>\n",
       "      <td>male</td>\n",
       "      <td>8.0500</td>\n",
       "      <td>3</td>\n",
       "      <td>0</td>\n",
       "      <td>0</td>\n",
       "      <td>1</td>\n",
       "    </tr>\n",
       "  </tbody>\n",
       "</table>\n",
       "</div>"
      ],
      "text/plain": [
       "   Survived     Sex     Fare Agegroup  Embarked_C  Embarked_Q  Embarked_S\n",
       "0         0    male   7.2500        2           0           0           1\n",
       "1         1  female  71.2833        3           1           0           0\n",
       "2         1  female   7.9250        2           0           0           1\n",
       "3         1  female  53.1000        3           0           0           1\n",
       "4         0    male   8.0500        3           0           0           1"
      ]
     },
     "execution_count": 12,
     "metadata": {},
     "output_type": "execute_result"
    }
   ],
   "source": [
    "#One-Hot 인코딩\n",
    "##1. pandas의 get_dummies\n",
    "# 알아서 data에 붙여줌\n",
    "x_one1 = pd.get_dummies(data =data, columns=['Embarked'], prefix='Embarked')#prefix는 가변수 이름 앞에 글자 붙여주는 기능. 옵션임!\n",
    "x_one1.head()"
   ]
  },
  {
   "cell_type": "code",
   "execution_count": 13,
   "metadata": {},
   "outputs": [
    {
     "data": {
      "text/html": [
       "<div>\n",
       "<style scoped>\n",
       "    .dataframe tbody tr th:only-of-type {\n",
       "        vertical-align: middle;\n",
       "    }\n",
       "\n",
       "    .dataframe tbody tr th {\n",
       "        vertical-align: top;\n",
       "    }\n",
       "\n",
       "    .dataframe thead th {\n",
       "        text-align: right;\n",
       "    }\n",
       "</style>\n",
       "<table border=\"1\" class=\"dataframe\">\n",
       "  <thead>\n",
       "    <tr style=\"text-align: right;\">\n",
       "      <th></th>\n",
       "      <th>Survived</th>\n",
       "      <th>Sex</th>\n",
       "      <th>Fare</th>\n",
       "      <th>Agegroup</th>\n",
       "      <th>Embarked_C</th>\n",
       "      <th>Embarked_Q</th>\n",
       "      <th>Embarked_S</th>\n",
       "    </tr>\n",
       "  </thead>\n",
       "  <tbody>\n",
       "    <tr>\n",
       "      <th>0</th>\n",
       "      <td>0</td>\n",
       "      <td>male</td>\n",
       "      <td>7.2500</td>\n",
       "      <td>2</td>\n",
       "      <td>0.0</td>\n",
       "      <td>0.0</td>\n",
       "      <td>1.0</td>\n",
       "    </tr>\n",
       "    <tr>\n",
       "      <th>1</th>\n",
       "      <td>1</td>\n",
       "      <td>female</td>\n",
       "      <td>71.2833</td>\n",
       "      <td>3</td>\n",
       "      <td>1.0</td>\n",
       "      <td>0.0</td>\n",
       "      <td>0.0</td>\n",
       "    </tr>\n",
       "    <tr>\n",
       "      <th>2</th>\n",
       "      <td>1</td>\n",
       "      <td>female</td>\n",
       "      <td>7.9250</td>\n",
       "      <td>2</td>\n",
       "      <td>0.0</td>\n",
       "      <td>0.0</td>\n",
       "      <td>1.0</td>\n",
       "    </tr>\n",
       "    <tr>\n",
       "      <th>3</th>\n",
       "      <td>1</td>\n",
       "      <td>female</td>\n",
       "      <td>53.1000</td>\n",
       "      <td>3</td>\n",
       "      <td>0.0</td>\n",
       "      <td>0.0</td>\n",
       "      <td>1.0</td>\n",
       "    </tr>\n",
       "    <tr>\n",
       "      <th>4</th>\n",
       "      <td>0</td>\n",
       "      <td>male</td>\n",
       "      <td>8.0500</td>\n",
       "      <td>3</td>\n",
       "      <td>0.0</td>\n",
       "      <td>0.0</td>\n",
       "      <td>1.0</td>\n",
       "    </tr>\n",
       "  </tbody>\n",
       "</table>\n",
       "</div>"
      ],
      "text/plain": [
       "   Survived     Sex     Fare Agegroup  Embarked_C  Embarked_Q  Embarked_S\n",
       "0         0    male   7.2500        2         0.0         0.0         1.0\n",
       "1         1  female  71.2833        3         1.0         0.0         0.0\n",
       "2         1  female   7.9250        2         0.0         0.0         1.0\n",
       "3         1  female  53.1000        3         0.0         0.0         1.0\n",
       "4         0    male   8.0500        3         0.0         0.0         1.0"
      ]
     },
     "execution_count": 13,
     "metadata": {},
     "output_type": "execute_result"
    }
   ],
   "source": [
    "##2. sklearn의 OneHotEncoder\n",
    "# 데이터셋에 따로 붙여줘야함\n",
    "\n",
    "from sklearn.preprocessing import OneHotEncoder\n",
    "\n",
    "enc = OneHotEncoder(drop='first') # drop='first'로 기준범주 제거 가능 \n",
    "x_one2 = pd.DataFrame(enc.fit_transform(data['Embarked'].values.reshape(-1,1)).toarray(),columns=['Embarked_Q','Embarked_S'])\n",
    "\n",
    "enc = OneHotEncoder()\n",
    "x_one3 = pd.DataFrame(enc.fit_transform(data['Embarked'].values.reshape(-1,1)).toarray(),columns=['Embarked_C','Embarked_Q','Embarked_S'])\n",
    "\n",
    "#데이터셋에 따로 붙여주기\n",
    "data = pd.concat([data, x_one3], axis=1).drop(['Embarked'],axis=1) #R의 cbind()와 동일 / axis=0이면 rbind()와 동일\n",
    "data.head()"
   ]
  },
  {
   "cell_type": "markdown",
   "metadata": {},
   "source": [
    "#### 3.Sex 변수에 Label Encoding 적용"
   ]
  },
  {
   "cell_type": "code",
   "execution_count": 14,
   "metadata": {},
   "outputs": [
    {
     "data": {
      "text/html": [
       "<div>\n",
       "<style scoped>\n",
       "    .dataframe tbody tr th:only-of-type {\n",
       "        vertical-align: middle;\n",
       "    }\n",
       "\n",
       "    .dataframe tbody tr th {\n",
       "        vertical-align: top;\n",
       "    }\n",
       "\n",
       "    .dataframe thead th {\n",
       "        text-align: right;\n",
       "    }\n",
       "</style>\n",
       "<table border=\"1\" class=\"dataframe\">\n",
       "  <thead>\n",
       "    <tr style=\"text-align: right;\">\n",
       "      <th></th>\n",
       "      <th>Survived</th>\n",
       "      <th>Sex</th>\n",
       "      <th>Fare</th>\n",
       "      <th>Agegroup</th>\n",
       "      <th>Embarked_C</th>\n",
       "      <th>Embarked_Q</th>\n",
       "      <th>Embarked_S</th>\n",
       "    </tr>\n",
       "  </thead>\n",
       "  <tbody>\n",
       "    <tr>\n",
       "      <th>0</th>\n",
       "      <td>0</td>\n",
       "      <td>1</td>\n",
       "      <td>7.2500</td>\n",
       "      <td>2</td>\n",
       "      <td>0.0</td>\n",
       "      <td>0.0</td>\n",
       "      <td>1.0</td>\n",
       "    </tr>\n",
       "    <tr>\n",
       "      <th>1</th>\n",
       "      <td>1</td>\n",
       "      <td>0</td>\n",
       "      <td>71.2833</td>\n",
       "      <td>3</td>\n",
       "      <td>1.0</td>\n",
       "      <td>0.0</td>\n",
       "      <td>0.0</td>\n",
       "    </tr>\n",
       "    <tr>\n",
       "      <th>2</th>\n",
       "      <td>1</td>\n",
       "      <td>0</td>\n",
       "      <td>7.9250</td>\n",
       "      <td>2</td>\n",
       "      <td>0.0</td>\n",
       "      <td>0.0</td>\n",
       "      <td>1.0</td>\n",
       "    </tr>\n",
       "    <tr>\n",
       "      <th>3</th>\n",
       "      <td>1</td>\n",
       "      <td>0</td>\n",
       "      <td>53.1000</td>\n",
       "      <td>3</td>\n",
       "      <td>0.0</td>\n",
       "      <td>0.0</td>\n",
       "      <td>1.0</td>\n",
       "    </tr>\n",
       "    <tr>\n",
       "      <th>4</th>\n",
       "      <td>0</td>\n",
       "      <td>1</td>\n",
       "      <td>8.0500</td>\n",
       "      <td>3</td>\n",
       "      <td>0.0</td>\n",
       "      <td>0.0</td>\n",
       "      <td>1.0</td>\n",
       "    </tr>\n",
       "  </tbody>\n",
       "</table>\n",
       "</div>"
      ],
      "text/plain": [
       "   Survived  Sex     Fare Agegroup  Embarked_C  Embarked_Q  Embarked_S\n",
       "0         0    1   7.2500        2         0.0         0.0         1.0\n",
       "1         1    0  71.2833        3         1.0         0.0         0.0\n",
       "2         1    0   7.9250        2         0.0         0.0         1.0\n",
       "3         1    0  53.1000        3         0.0         0.0         1.0\n",
       "4         0    1   8.0500        3         0.0         0.0         1.0"
      ]
     },
     "execution_count": 14,
     "metadata": {},
     "output_type": "execute_result"
    }
   ],
   "source": [
    "from sklearn.preprocessing import LabelEncoder\n",
    "enc = LabelEncoder()\n",
    "data['Sex'] = enc.fit_transform(data['Sex'])\n",
    "data.head()"
   ]
  },
  {
   "cell_type": "markdown",
   "metadata": {},
   "source": [
    "#### 4. 로지스틱회귀를 사용한 모델링"
   ]
  },
  {
   "cell_type": "code",
   "execution_count": 20,
   "metadata": {},
   "outputs": [],
   "source": [
    "#X와 Y분리\n",
    "x = data.iloc[:,data.columns != 'Survived']\n",
    "y = data.iloc[:,data.columns == 'Survived'] #target 변수인 Survived를 Y로 저장\n",
    "\n",
    "#train set과 validation set 구분\n",
    "from sklearn.model_selection import train_test_split \n",
    "x_train, x_test, y_train, y_test = train_test_split(x, y, test_size=0.3) #7:3 \n",
    "\n",
    "#로지스틱 회귀 모델 적합 \n",
    "from lightgbm import LGBMClassifier \n",
    "lgbm = LGBMClassifier()\n",
    "lgbm.fit(x_train, y_train)\n",
    "y_pred = lgbm.predict(x_test) #validation set 통한 검증"
   ]
  },
  {
   "cell_type": "markdown",
   "metadata": {},
   "source": [
    "#### 5.혼동행렬 및 평가지표 계산"
   ]
  },
  {
   "cell_type": "code",
   "execution_count": 21,
   "metadata": {},
   "outputs": [
    {
     "name": "stdout",
     "output_type": "stream",
     "text": [
      "<Confusion Matrix>\n",
      " [[ 56  13]\n",
      " [ 33 112]] \n",
      "\n",
      "Accuracy : 0.7850 \n",
      "Precision : 0.8116 \n",
      "Recall : 0.6292 \n",
      "F1-Score : 0.7089 \n",
      "MCC : 0.5538\n"
     ]
    }
   ],
   "source": [
    "#혼동행렬\n",
    "from sklearn.metrics import confusion_matrix\n",
    "cm = confusion_matrix(y_test, y_pred,labels=[1, 0]) #교안 모양과 같게하기 위해 label 순서 정해줌\n",
    "\n",
    "#평가지표\n",
    "from sklearn.metrics import accuracy_score, precision_score, recall_score, f1_score, matthews_corrcoef\n",
    "ac = accuracy_score(y_test, y_pred) #accuracy(정확도)\n",
    "pr = precision_score(y_test, y_pred) #precision(정밀도)\n",
    "rc = recall_score(y_test, y_pred) #recall(민감도)\n",
    "f1 = f1_score(y_test, y_pred) #F1-score\n",
    "mc = matthews_corrcoef(y_test, y_pred) #MCC(매튜상관계수)\n",
    "\n",
    "print(f'<Confusion Matrix>\\n {cm.T} \\n\\nAccuracy : {ac:.4f} \\nPrecision : {pr:.4f} \\nRecall : {rc:.4f} \\nF1-Score : {f1:.4f} \\nMCC : {mc:.4f}')"
   ]
  },
  {
   "cell_type": "code",
   "execution_count": 22,
   "metadata": {},
   "outputs": [
    {
     "data": {
      "text/plain": [
       "0.8115942028985508"
      ]
     },
     "execution_count": 22,
     "metadata": {},
     "output_type": "execute_result"
    }
   ],
   "source": [
    "#Precision 직접 계산\n",
    "56 / (56+13)"
   ]
  },
  {
   "cell_type": "markdown",
   "metadata": {},
   "source": [
    "#### 6. ROC곡선과 AUC"
   ]
  },
  {
   "cell_type": "code",
   "execution_count": 23,
   "metadata": {},
   "outputs": [
    {
     "name": "stdout",
     "output_type": "stream",
     "text": [
      "      cutoff    fpr       tpr\n",
      "0   1.958526  0.000  0.000000\n",
      "1   0.958526  0.000  0.011236\n",
      "2   0.819297  0.000  0.157303\n",
      "3   0.815340  0.008  0.168539\n",
      "4   0.729508  0.008  0.337079\n",
      "..       ...    ...       ...\n",
      "80  0.167448  0.872  0.988764\n",
      "81  0.167415  0.888  0.988764\n",
      "82  0.140952  0.968  0.988764\n",
      "83  0.136955  0.976  1.000000\n",
      "84  0.101799  1.000  1.000000\n",
      "\n",
      "[85 rows x 3 columns]\n",
      "\n",
      "AUC : 0.8698\n"
     ]
    },
    {
     "data": {
      "image/png": "[encoded data removed]",
      "text/plain": [
       "<Figure size 432x288 with 1 Axes>"
      ]
     },
     "metadata": {
      "needs_background": "light"
     },
     "output_type": "display_data"
    }
   ],
   "source": [
    "from sklearn.metrics import roc_curve, roc_auc_score\n",
    "prob_positive_pred = lr.predict_proba(x_test)[:, 1] #예측값이 1일 확률\n",
    "\n",
    "fpr, tpr, cutoff = roc_curve(y_test, prob_positive_pred) #각 확률을 cutoff point로 정해서 ROC 그림! \n",
    "\n",
    "#ROC곡선 시각화\n",
    "df = {\"cutoff\":cutoff, \"fpr\":fpr, \"tpr\":tpr}\n",
    "df = pd.DataFrame.from_dict(df)\n",
    "print(df)\n",
    "import seaborn as sns\n",
    "sns.lineplot(x=\"fpr\", y=\"tpr\", data=df)\n",
    "\n",
    "#AUC 계산\n",
    "auc = roc_auc_score(y_test, prob_positive_pred)\n",
    "print(f'\\nAUC : {auc:.4f}')"
   ]
  },
  {
   "cell_type": "markdown",
   "metadata": {},
   "source": [
    "## 2. 샘플링 실습"
   ]
  },
  {
   "cell_type": "markdown",
   "metadata": {},
   "source": [
    "이전 실습과 변수명 등이 같아서 혼동이 생길 수 있으니  \n",
    "시작하기 전에 **맨 위 도구상자**에 보이는 **새로고침 버튼**을 눌러서  \n",
    "kernel을 재시작하세요~"
   ]
  },
  {
   "cell_type": "code",
   "execution_count": 2,
   "metadata": {},
   "outputs": [],
   "source": [
    "import warnings  \n",
    "warnings.filterwarnings(action=\"ignore\")"
   ]
  },
  {
   "cell_type": "code",
   "execution_count": 3,
   "metadata": {},
   "outputs": [],
   "source": [
    "# 데이터 불러오기 \n",
    "import pandas as pd\n",
    "data = pd.read_csv(\"샘플링 실습 data.csv\")"
   ]
  },
  {
   "cell_type": "code",
   "execution_count": 4,
   "metadata": {},
   "outputs": [
    {
     "data": {
      "text/plain": [
       "<AxesSubplot:xlabel='cls', ylabel='count'>"
      ]
     },
     "execution_count": 4,
     "metadata": {},
     "output_type": "execute_result"
    },
    {
     "data": {
      "image/png": "[encoded data removed]",
      "text/plain": [
       "<Figure size 432x288 with 1 Axes>"
      ]
     },
     "metadata": {
      "needs_background": "light"
     },
     "output_type": "display_data"
    }
   ],
   "source": [
    "#X, Y 분리\n",
    "y = data['cls']\n",
    "x = data.drop(['cls'],axis=1)\n",
    "\n",
    "#Y의 분포 확인\n",
    "import seaborn as sns\n",
    "sns.countplot(y) #엄청난 불균형 데이터!"
   ]
  },
  {
   "cell_type": "markdown",
   "metadata": {},
   "source": [
    "#### 1. 언더샘플링"
   ]
  },
  {
   "cell_type": "code",
   "execution_count": 7,
   "metadata": {
    "scrolled": false
   },
   "outputs": [
    {
     "name": "stdout",
     "output_type": "stream",
     "text": [
      "원래 0 :  980 \n",
      "Random UnderSampling 결과 :  20\n"
     ]
    },
    {
     "data": {
      "text/plain": [
       "<AxesSubplot:xlabel='cls', ylabel='count'>"
      ]
     },
     "execution_count": 7,
     "metadata": {},
     "output_type": "execute_result"
    },
    {
     "data": {
      "image/png": "[encoded data removed]",
      "text/plain": [
       "<Figure size 432x288 with 1 Axes>"
      ]
     },
     "metadata": {
      "needs_background": "light"
     },
     "output_type": "display_data"
    }
   ],
   "source": [
    "#1. Random Under Sampling\n",
    "from imblearn.under_sampling import RandomUnderSampler\n",
    "rus_x, rus_y = RandomUnderSampler(random_state = 10).fit_resample(x, y) # random_state는 R의 seed()와 같음! \n",
    "rus = pd.concat([rus_y,rus_x],axis=1)\n",
    "\n",
    "print('원래 0 : ',sum(y==0) ,'\\nRandom UnderSampling 결과 : ',sum(rus['cls']==0))\n",
    "sns.countplot(rus['cls']) #균형 + count 수가 엄청 줄어듦"
   ]
  },
  {
   "cell_type": "code",
   "execution_count": 12,
   "metadata": {},
   "outputs": [
    {
     "name": "stdout",
     "output_type": "stream",
     "text": [
      "원래 0 :  980 \n",
      "CNN 결과 :  21\n"
     ]
    },
    {
     "data": {
      "text/plain": [
       "<AxesSubplot:xlabel='cls', ylabel='count'>"
      ]
     },
     "execution_count": 12,
     "metadata": {},
     "output_type": "execute_result"
    },
    {
     "data": {
      "image/png": "[encoded data removed]",
      "text/plain": [
       "<Figure size 432x288 with 1 Axes>"
      ]
     },
     "metadata": {
      "needs_background": "light"
     },
     "output_type": "display_data"
    }
   ],
   "source": [
    "#2. Condensed Nearest Neighbors\n",
    "# KNN 알고리즘 적용해 다수 클래스 데이터가 밀집된 곳을 지움\n",
    "# 아직은 랜덤\n",
    "from imblearn.under_sampling import CondensedNearestNeighbour\n",
    "\n",
    "cnn_x, cnn_y = CondensedNearestNeighbour(n_neighbors=1, random_state = 10).fit_resample(x, y) \n",
    "cnn = pd.concat([cnn_y,cnn_x],axis=1)\n",
    "\n",
    "print('원래 0 : ',sum(y==0) ,'\\nCNN 결과 : ',sum(cnn['cls']==0))\n",
    "sns.countplot(cnn['cls']) #균형 + count 수가 엄청 줄어듦"
   ]
  },
  {
   "cell_type": "code",
   "execution_count": 13,
   "metadata": {},
   "outputs": [
    {
     "name": "stdout",
     "output_type": "stream",
     "text": [
      "원래 0 :  980 \n",
      "ENN 결과 :  967\n"
     ]
    },
    {
     "data": {
      "text/plain": [
       "<AxesSubplot:xlabel='cls', ylabel='count'>"
      ]
     },
     "execution_count": 13,
     "metadata": {},
     "output_type": "execute_result"
    },
    {
     "data": {
      "image/png": "[encoded data removed]",
      "text/plain": [
       "<Figure size 432x288 with 1 Axes>"
      ]
     },
     "metadata": {
      "needs_background": "light"
     },
     "output_type": "display_data"
    }
   ],
   "source": [
    "#3. Edited Nearest Neighbors\n",
    "# 클래스 경계의 noisy 데이터만 제거 \n",
    "# 아주 좋은 성능은 안보이기 때문에 다른 기법과 결합해서 사용\n",
    "from imblearn.under_sampling import EditedNearestNeighbours\n",
    "\n",
    "enn_x, enn_y = EditedNearestNeighbours(n_neighbors=3).fit_resample(x, y) #더이상 랜덤X\n",
    "enn = pd.concat([enn_y,enn_x],axis=1)\n",
    "\n",
    "print('원래 0 : ',sum(y==0) ,'\\nENN 결과 : ',sum(enn['cls']==0))\n",
    "sns.countplot(enn['cls']) #그렇게 많이 제거하지 않음!"
   ]
  },
  {
   "cell_type": "code",
   "execution_count": 14,
   "metadata": {},
   "outputs": [
    {
     "name": "stdout",
     "output_type": "stream",
     "text": [
      "원래 0 :  980 \n",
      "Tomek Links 결과 :  975\n"
     ]
    },
    {
     "data": {
      "text/plain": [
       "<AxesSubplot:xlabel='cls', ylabel='count'>"
      ]
     },
     "execution_count": 14,
     "metadata": {},
     "output_type": "execute_result"
    },
    {
     "data": {
      "image/png": "[encoded data removed]",
      "text/plain": [
       "<Figure size 432x288 with 1 Axes>"
      ]
     },
     "metadata": {
      "needs_background": "light"
     },
     "output_type": "display_data"
    }
   ],
   "source": [
    "#4. Tomek Links\n",
    "# 클래스 경계의 noisy 데이터만 제거\n",
    "# 아주 좋은 성능은 안보이기 때문에 다른 기법과 결합해서 사용\n",
    "from imblearn.under_sampling import TomekLinks\n",
    "\n",
    "tl_x, tl_y = TomekLinks().fit_resample(x, y)\n",
    "tl = pd.concat([tl_y,tl_x],axis=1)\n",
    "\n",
    "print('원래 0 : ',sum(y==0) ,'\\nTomek Links 결과 : ',sum(tl['cls']==0))\n",
    "sns.countplot(tl['cls']) #그렇게 많이 제거하지 않음!"
   ]
  },
  {
   "cell_type": "code",
   "execution_count": 15,
   "metadata": {},
   "outputs": [
    {
     "name": "stdout",
     "output_type": "stream",
     "text": [
      "원래 0 :  980 \n",
      "OSS 결과 :  116\n"
     ]
    },
    {
     "data": {
      "text/plain": [
       "<AxesSubplot:xlabel='cls', ylabel='count'>"
      ]
     },
     "execution_count": 15,
     "metadata": {},
     "output_type": "execute_result"
    },
    {
     "data": {
      "image/png": "[encoded data removed]",
      "text/plain": [
       "<Figure size 432x288 with 1 Axes>"
      ]
     },
     "metadata": {
      "needs_background": "light"
     },
     "output_type": "display_data"
    }
   ],
   "source": [
    "#5. One-sided selection\n",
    "#Tomek Links + CNN\n",
    "from imblearn.under_sampling import OneSidedSelection\n",
    "oss_x, oss_y = OneSidedSelection(n_neighbors=1, n_seeds_S=100).fit_resample(x, y) #n_seeds_S로 다수클래스 수 대략 조정 가능\n",
    "oss = pd.concat([oss_y,oss_x],axis=1)\n",
    "\n",
    "print('원래 0 : ',sum(y==0) ,'\\nOSS 결과 : ',sum(oss['cls']==0))\n",
    "sns.countplot(oss['cls']) # 다수 클래스가 많이 제거됐지만 불균형 해소는X"
   ]
  },
  {
   "cell_type": "code",
   "execution_count": 16,
   "metadata": {},
   "outputs": [
    {
     "name": "stdout",
     "output_type": "stream",
     "text": [
      "원래 0 :  980 \n",
      "NCR 결과 :  973\n"
     ]
    },
    {
     "data": {
      "text/plain": [
       "<AxesSubplot:xlabel='cls', ylabel='count'>"
      ]
     },
     "execution_count": 16,
     "metadata": {},
     "output_type": "execute_result"
    },
    {
     "data": {
      "image/png": "[encoded data removed]",
      "text/plain": [
       "<Figure size 432x288 with 1 Axes>"
      ]
     },
     "metadata": {
      "needs_background": "light"
     },
     "output_type": "display_data"
    }
   ],
   "source": [
    "#6.Neighborhood Cleaning \n",
    "#CNN + ENN\n",
    "from imblearn.under_sampling import NeighbourhoodCleaningRule\n",
    "ncr_x, ncr_y =  NeighbourhoodCleaningRule(n_neighbors=1, threshold_cleaning=0.5).fit_resample(x, y) \n",
    "ncr = pd.concat([ncr_y,ncr_x],axis=1)\n",
    "\n",
    "print('원래 0 : ',sum(y==0) ,'\\nNCR 결과 : ',sum(ncr['cls']==0))\n",
    "sns.countplot(ncr['cls']) #그렇게 많이 제거하지 않음!"
   ]
  },
  {
   "cell_type": "markdown",
   "metadata": {},
   "source": [
    "#### 2. 오버샘플링"
   ]
  },
  {
   "cell_type": "code",
   "execution_count": 17,
   "metadata": {},
   "outputs": [
    {
     "name": "stdout",
     "output_type": "stream",
     "text": [
      "원래 1 :  20 \n",
      "Random Oversampling 결과 :  980\n"
     ]
    },
    {
     "data": {
      "text/plain": [
       "<AxesSubplot:xlabel='cls', ylabel='count'>"
      ]
     },
     "execution_count": 17,
     "metadata": {},
     "output_type": "execute_result"
    },
    {
     "data": {
      "image/png": "[encoded data removed]",
      "text/plain": [
       "<Figure size 432x288 with 1 Axes>"
      ]
     },
     "metadata": {
      "needs_background": "light"
     },
     "output_type": "display_data"
    }
   ],
   "source": [
    "#1. Random Over Sampling\n",
    "from imblearn.over_sampling import RandomOverSampler\n",
    "ros_x, ros_y = RandomOverSampler(random_state = 10).fit_resample(x, y) # random_state는 R의 seed()와 같음! \n",
    "ros = pd.concat([ros_y,ros_x],axis=1)\n",
    "\n",
    "print('원래 1 : ',sum(y==1) ,'\\nRandom Oversampling 결과 : ',sum(ros['cls']==1))\n",
    "sns.countplot(ros['cls']) "
   ]
  },
  {
   "cell_type": "code",
   "execution_count": 18,
   "metadata": {},
   "outputs": [
    {
     "name": "stdout",
     "output_type": "stream",
     "text": [
      "원래 1 :  20 \n",
      "SMOTE 결과 :  980\n"
     ]
    },
    {
     "data": {
      "text/plain": [
       "<AxesSubplot:xlabel='cls', ylabel='count'>"
      ]
     },
     "execution_count": 18,
     "metadata": {},
     "output_type": "execute_result"
    },
    {
     "data": {
      "image/png": "[encoded data removed]",
      "text/plain": [
       "<Figure size 432x288 with 1 Axes>"
      ]
     },
     "metadata": {
      "needs_background": "light"
     },
     "output_type": "display_data"
    }
   ],
   "source": [
    "#2. SMOTE\n",
    "from imblearn.over_sampling import SMOTE\n",
    "smt_x, smt_y = SMOTE().fit_resample(x, y) \n",
    "smt = pd.concat([smt_y,smt_x],axis=1)\n",
    "\n",
    "print('원래 1 : ',sum(y==1) ,'\\nSMOTE 결과 : ',sum(smt['cls']==1))\n",
    "sns.countplot(smt['cls']) "
   ]
  },
  {
   "cell_type": "code",
   "execution_count": 19,
   "metadata": {
    "scrolled": true
   },
   "outputs": [
    {
     "name": "stdout",
     "output_type": "stream",
     "text": [
      "원래 1 :  20 \n",
      "Borderline-SMOTE 결과 :  980\n"
     ]
    },
    {
     "data": {
      "text/plain": [
       "<AxesSubplot:xlabel='cls', ylabel='count'>"
      ]
     },
     "execution_count": 19,
     "metadata": {},
     "output_type": "execute_result"
    },
    {
     "data": {
      "image/png": "[encoded data removed]",
      "text/plain": [
       "<Figure size 432x288 with 1 Axes>"
      ]
     },
     "metadata": {
      "needs_background": "light"
     },
     "output_type": "display_data"
    }
   ],
   "source": [
    "#3. Borderline-SMOTE\n",
    "# misclassified 데이터 확인에 KNN 알고리즘 사용\n",
    "# 클래스 경계 근처에 소수클래스 데이터 생성\n",
    "from imblearn.over_sampling import BorderlineSMOTE\n",
    "bsmt_x, bsmt_y = BorderlineSMOTE().fit_resample(x, y) \n",
    "bsmt = pd.concat([bsmt_y,bsmt_x],axis=1)\n",
    "\n",
    "print('원래 1 : ',sum(y==1) ,'\\nBorderline-SMOTE 결과 : ',sum(bsmt['cls']==1))\n",
    "sns.countplot(bsmt['cls']) "
   ]
  },
  {
   "cell_type": "code",
   "execution_count": 20,
   "metadata": {
    "scrolled": true
   },
   "outputs": [
    {
     "name": "stdout",
     "output_type": "stream",
     "text": [
      "원래 1 :  20 \n",
      "SVMSMOTE 결과 :  980\n"
     ]
    },
    {
     "data": {
      "text/plain": [
       "<AxesSubplot:xlabel='cls', ylabel='count'>"
      ]
     },
     "execution_count": 20,
     "metadata": {},
     "output_type": "execute_result"
    },
    {
     "data": {
      "image/png": "[encoded data removed]",
      "text/plain": [
       "<Figure size 432x288 with 1 Axes>"
      ]
     },
     "metadata": {
      "needs_background": "light"
     },
     "output_type": "display_data"
    }
   ],
   "source": [
    "#4. Borderline-SMOTE SVM (SVMSMOTE)\n",
    "# misclassified 데이터 확인에 SVM 사용\n",
    "# 클래스 경계 근처에 소수클래스 데이터 생성\n",
    "from imblearn.over_sampling import SVMSMOTE\n",
    "ssmt_x, ssmt_y = SVMSMOTE().fit_resample(x, y) \n",
    "ssmt = pd.concat([ssmt_y,ssmt_x],axis=1)\n",
    "\n",
    "print('원래 1 : ',sum(y==1) ,'\\nSVMSMOTE 결과 : ',sum(ssmt['cls']==1))\n",
    "sns.countplot(ssmt['cls']) "
   ]
  },
  {
   "cell_type": "code",
   "execution_count": 21,
   "metadata": {},
   "outputs": [
    {
     "name": "stdout",
     "output_type": "stream",
     "text": [
      "원래 1 :  20 \n",
      "ADASYN 결과 :  980\n"
     ]
    },
    {
     "data": {
      "text/plain": [
       "<AxesSubplot:xlabel='cls', ylabel='count'>"
      ]
     },
     "execution_count": 21,
     "metadata": {},
     "output_type": "execute_result"
    },
    {
     "data": {
      "image/png": "[encoded data removed]",
      "text/plain": [
       "<Figure size 432x288 with 1 Axes>"
      ]
     },
     "metadata": {
      "needs_background": "light"
     },
     "output_type": "display_data"
    }
   ],
   "source": [
    "#5. ADASYN\n",
    "# 소수클래스의 밀도분포를 고려해서 데이터 생성\n",
    "# 밀도에 가중치를 두어 밀도가 낮으면 많이, 높으면 조금 생성\n",
    "from imblearn.over_sampling import ADASYN\n",
    "ads_x, ads_y = ADASYN().fit_resample(x, y) \n",
    "ads = pd.concat([ads_y,ads_x],axis=1)\n",
    "\n",
    "print('원래 1 : ',sum(y==1) ,'\\nADASYN 결과 : ',sum(ads['cls']==1))\n",
    "sns.countplot(ads['cls'])"
   ]
  },
  {
   "cell_type": "markdown",
   "metadata": {},
   "source": [
    "## 3. 인코딩 실습"
   ]
  },
  {
   "cell_type": "markdown",
   "metadata": {},
   "source": [
    "이전 실습과 변수명 등이 같아서 혼동이 생길 수 있으니  \n",
    "시작하기 전에 맨 위 도구상자에 보이는 새로고침 버튼을 눌러서  \n",
    "kernel을 재시작하세요~"
   ]
  },
  {
   "cell_type": "code",
   "execution_count": 1,
   "metadata": {},
   "outputs": [],
   "source": [
    "import warnings  \n",
    "warnings.filterwarnings(action=\"ignore\")"
   ]
  },
  {
   "cell_type": "code",
   "execution_count": 3,
   "metadata": {
    "scrolled": true
   },
   "outputs": [
    {
     "data": {
      "text/html": [
       "<div>\n",
       "<style scoped>\n",
       "    .dataframe tbody tr th:only-of-type {\n",
       "        vertical-align: middle;\n",
       "    }\n",
       "\n",
       "    .dataframe tbody tr th {\n",
       "        vertical-align: top;\n",
       "    }\n",
       "\n",
       "    .dataframe thead th {\n",
       "        text-align: right;\n",
       "    }\n",
       "</style>\n",
       "<table border=\"1\" class=\"dataframe\">\n",
       "  <thead>\n",
       "    <tr style=\"text-align: right;\">\n",
       "      <th></th>\n",
       "      <th>transaction_real_price</th>\n",
       "      <th>city</th>\n",
       "      <th>dong</th>\n",
       "      <th>apt</th>\n",
       "    </tr>\n",
       "  </thead>\n",
       "  <tbody>\n",
       "    <tr>\n",
       "      <th>0</th>\n",
       "      <td>37500</td>\n",
       "      <td>서울특별시</td>\n",
       "      <td>신교동</td>\n",
       "      <td>신현(101동)</td>\n",
       "    </tr>\n",
       "    <tr>\n",
       "      <th>1</th>\n",
       "      <td>20000</td>\n",
       "      <td>서울특별시</td>\n",
       "      <td>필운동</td>\n",
       "      <td>사직파크맨션</td>\n",
       "    </tr>\n",
       "    <tr>\n",
       "      <th>2</th>\n",
       "      <td>38500</td>\n",
       "      <td>서울특별시</td>\n",
       "      <td>필운동</td>\n",
       "      <td>두레엘리시안</td>\n",
       "    </tr>\n",
       "    <tr>\n",
       "      <th>3</th>\n",
       "      <td>118000</td>\n",
       "      <td>서울특별시</td>\n",
       "      <td>내수동</td>\n",
       "      <td>파크팰리스</td>\n",
       "    </tr>\n",
       "    <tr>\n",
       "      <th>4</th>\n",
       "      <td>120000</td>\n",
       "      <td>서울특별시</td>\n",
       "      <td>내수동</td>\n",
       "      <td>킹스매너</td>\n",
       "    </tr>\n",
       "    <tr>\n",
       "      <th>...</th>\n",
       "      <td>...</td>\n",
       "      <td>...</td>\n",
       "      <td>...</td>\n",
       "      <td>...</td>\n",
       "    </tr>\n",
       "    <tr>\n",
       "      <th>1216548</th>\n",
       "      <td>22000</td>\n",
       "      <td>부산광역시</td>\n",
       "      <td>정관읍 용수리</td>\n",
       "      <td>정관 동일스위트1차</td>\n",
       "    </tr>\n",
       "    <tr>\n",
       "      <th>1216549</th>\n",
       "      <td>30750</td>\n",
       "      <td>부산광역시</td>\n",
       "      <td>정관읍 용수리</td>\n",
       "      <td>정관 동일스위트1차</td>\n",
       "    </tr>\n",
       "    <tr>\n",
       "      <th>1216550</th>\n",
       "      <td>29500</td>\n",
       "      <td>부산광역시</td>\n",
       "      <td>정관읍 용수리</td>\n",
       "      <td>정관 동일스위트1차</td>\n",
       "    </tr>\n",
       "    <tr>\n",
       "      <th>1216551</th>\n",
       "      <td>26700</td>\n",
       "      <td>부산광역시</td>\n",
       "      <td>정관읍 용수리</td>\n",
       "      <td>정관신도시롯데캐슬</td>\n",
       "    </tr>\n",
       "    <tr>\n",
       "      <th>1216552</th>\n",
       "      <td>28800</td>\n",
       "      <td>부산광역시</td>\n",
       "      <td>정관읍 용수리</td>\n",
       "      <td>정관 동일스위트1차</td>\n",
       "    </tr>\n",
       "  </tbody>\n",
       "</table>\n",
       "<p>1216553 rows × 4 columns</p>\n",
       "</div>"
      ],
      "text/plain": [
       "         transaction_real_price   city     dong         apt\n",
       "0                         37500  서울특별시      신교동    신현(101동)\n",
       "1                         20000  서울특별시      필운동      사직파크맨션\n",
       "2                         38500  서울특별시      필운동      두레엘리시안\n",
       "3                        118000  서울특별시      내수동       파크팰리스\n",
       "4                        120000  서울특별시      내수동        킹스매너\n",
       "...                         ...    ...      ...         ...\n",
       "1216548                   22000  부산광역시  정관읍 용수리  정관 동일스위트1차\n",
       "1216549                   30750  부산광역시  정관읍 용수리  정관 동일스위트1차\n",
       "1216550                   29500  부산광역시  정관읍 용수리  정관 동일스위트1차\n",
       "1216551                   26700  부산광역시  정관읍 용수리   정관신도시롯데캐슬\n",
       "1216552                   28800  부산광역시  정관읍 용수리  정관 동일스위트1차\n",
       "\n",
       "[1216553 rows x 4 columns]"
      ]
     },
     "execution_count": 3,
     "metadata": {},
     "output_type": "execute_result"
    }
   ],
   "source": [
    "# 데이터 불러오기 \n",
    "import pandas as pd\n",
    "data = pd.read_csv(\"인코딩 실습 data.csv\")\n",
    "data = data[['transaction_real_price','city','dong','apt']]\n",
    "data"
   ]
  },
  {
   "cell_type": "markdown",
   "metadata": {},
   "source": [
    "#### 1. apt 변수에 Mean Encoding (Target Encoding)  적용"
   ]
  },
  {
   "cell_type": "code",
   "execution_count": 4,
   "metadata": {
    "scrolled": true
   },
   "outputs": [
    {
     "data": {
      "text/html": [
       "<div>\n",
       "<style scoped>\n",
       "    .dataframe tbody tr th:only-of-type {\n",
       "        vertical-align: middle;\n",
       "    }\n",
       "\n",
       "    .dataframe tbody tr th {\n",
       "        vertical-align: top;\n",
       "    }\n",
       "\n",
       "    .dataframe thead th {\n",
       "        text-align: right;\n",
       "    }\n",
       "</style>\n",
       "<table border=\"1\" class=\"dataframe\">\n",
       "  <thead>\n",
       "    <tr style=\"text-align: right;\">\n",
       "      <th></th>\n",
       "      <th>transaction_real_price</th>\n",
       "      <th>city</th>\n",
       "      <th>dong</th>\n",
       "      <th>apt</th>\n",
       "    </tr>\n",
       "  </thead>\n",
       "  <tbody>\n",
       "    <tr>\n",
       "      <th>0</th>\n",
       "      <td>37500</td>\n",
       "      <td>서울특별시</td>\n",
       "      <td>신교동</td>\n",
       "      <td>46040.000000</td>\n",
       "    </tr>\n",
       "    <tr>\n",
       "      <th>1</th>\n",
       "      <td>20000</td>\n",
       "      <td>서울특별시</td>\n",
       "      <td>필운동</td>\n",
       "      <td>20000.000000</td>\n",
       "    </tr>\n",
       "    <tr>\n",
       "      <th>2</th>\n",
       "      <td>38500</td>\n",
       "      <td>서울특별시</td>\n",
       "      <td>필운동</td>\n",
       "      <td>53284.615385</td>\n",
       "    </tr>\n",
       "    <tr>\n",
       "      <th>3</th>\n",
       "      <td>118000</td>\n",
       "      <td>서울특별시</td>\n",
       "      <td>내수동</td>\n",
       "      <td>107134.545455</td>\n",
       "    </tr>\n",
       "    <tr>\n",
       "      <th>4</th>\n",
       "      <td>120000</td>\n",
       "      <td>서울특별시</td>\n",
       "      <td>내수동</td>\n",
       "      <td>114846.666667</td>\n",
       "    </tr>\n",
       "    <tr>\n",
       "      <th>...</th>\n",
       "      <td>...</td>\n",
       "      <td>...</td>\n",
       "      <td>...</td>\n",
       "      <td>...</td>\n",
       "    </tr>\n",
       "    <tr>\n",
       "      <th>1216548</th>\n",
       "      <td>22000</td>\n",
       "      <td>부산광역시</td>\n",
       "      <td>정관읍 용수리</td>\n",
       "      <td>23325.710872</td>\n",
       "    </tr>\n",
       "    <tr>\n",
       "      <th>1216549</th>\n",
       "      <td>30750</td>\n",
       "      <td>부산광역시</td>\n",
       "      <td>정관읍 용수리</td>\n",
       "      <td>23325.710872</td>\n",
       "    </tr>\n",
       "    <tr>\n",
       "      <th>1216550</th>\n",
       "      <td>29500</td>\n",
       "      <td>부산광역시</td>\n",
       "      <td>정관읍 용수리</td>\n",
       "      <td>23325.710872</td>\n",
       "    </tr>\n",
       "    <tr>\n",
       "      <th>1216551</th>\n",
       "      <td>26700</td>\n",
       "      <td>부산광역시</td>\n",
       "      <td>정관읍 용수리</td>\n",
       "      <td>26787.013725</td>\n",
       "    </tr>\n",
       "    <tr>\n",
       "      <th>1216552</th>\n",
       "      <td>28800</td>\n",
       "      <td>부산광역시</td>\n",
       "      <td>정관읍 용수리</td>\n",
       "      <td>23325.710872</td>\n",
       "    </tr>\n",
       "  </tbody>\n",
       "</table>\n",
       "<p>1216553 rows × 4 columns</p>\n",
       "</div>"
      ],
      "text/plain": [
       "         transaction_real_price   city     dong            apt\n",
       "0                         37500  서울특별시      신교동   46040.000000\n",
       "1                         20000  서울특별시      필운동   20000.000000\n",
       "2                         38500  서울특별시      필운동   53284.615385\n",
       "3                        118000  서울특별시      내수동  107134.545455\n",
       "4                        120000  서울특별시      내수동  114846.666667\n",
       "...                         ...    ...      ...            ...\n",
       "1216548                   22000  부산광역시  정관읍 용수리   23325.710872\n",
       "1216549                   30750  부산광역시  정관읍 용수리   23325.710872\n",
       "1216550                   29500  부산광역시  정관읍 용수리   23325.710872\n",
       "1216551                   26700  부산광역시  정관읍 용수리   26787.013725\n",
       "1216552                   28800  부산광역시  정관읍 용수리   23325.710872\n",
       "\n",
       "[1216553 rows x 4 columns]"
      ]
     },
     "execution_count": 4,
     "metadata": {},
     "output_type": "execute_result"
    }
   ],
   "source": [
    "#apt별로 groupby해서 평균계산!\n",
    "mean_encoding = data.groupby(['apt'])['transaction_real_price'].mean().to_dict()\n",
    "\n",
    "#map()로 적용\n",
    "data['apt'] = data['apt'].map(mean_encoding)\n",
    "data#같은 아파트끼리는 같은 값이 나옴!"
   ]
  },
  {
   "cell_type": "markdown",
   "metadata": {},
   "source": [
    "#### 2. dong 변수에 Leave One Out Encoding 적용"
   ]
  },
  {
   "cell_type": "code",
   "execution_count": 7,
   "metadata": {
    "scrolled": true
   },
   "outputs": [
    {
     "data": {
      "text/html": [
       "<div>\n",
       "<style scoped>\n",
       "    .dataframe tbody tr th:only-of-type {\n",
       "        vertical-align: middle;\n",
       "    }\n",
       "\n",
       "    .dataframe tbody tr th {\n",
       "        vertical-align: top;\n",
       "    }\n",
       "\n",
       "    .dataframe thead th {\n",
       "        text-align: right;\n",
       "    }\n",
       "</style>\n",
       "<table border=\"1\" class=\"dataframe\">\n",
       "  <thead>\n",
       "    <tr style=\"text-align: right;\">\n",
       "      <th></th>\n",
       "      <th>transaction_real_price</th>\n",
       "      <th>city</th>\n",
       "      <th>dong</th>\n",
       "      <th>apt</th>\n",
       "    </tr>\n",
       "  </thead>\n",
       "  <tbody>\n",
       "    <tr>\n",
       "      <th>0</th>\n",
       "      <td>37500</td>\n",
       "      <td>서울특별시</td>\n",
       "      <td>47056.250000</td>\n",
       "      <td>46040.000000</td>\n",
       "    </tr>\n",
       "    <tr>\n",
       "      <th>1</th>\n",
       "      <td>20000</td>\n",
       "      <td>서울특별시</td>\n",
       "      <td>63410.344828</td>\n",
       "      <td>20000.000000</td>\n",
       "    </tr>\n",
       "    <tr>\n",
       "      <th>2</th>\n",
       "      <td>38500</td>\n",
       "      <td>서울특별시</td>\n",
       "      <td>62772.413793</td>\n",
       "      <td>53284.615385</td>\n",
       "    </tr>\n",
       "    <tr>\n",
       "      <th>3</th>\n",
       "      <td>118000</td>\n",
       "      <td>서울특별시</td>\n",
       "      <td>107849.009901</td>\n",
       "      <td>107134.545455</td>\n",
       "    </tr>\n",
       "    <tr>\n",
       "      <th>4</th>\n",
       "      <td>120000</td>\n",
       "      <td>서울특별시</td>\n",
       "      <td>107839.108911</td>\n",
       "      <td>114846.666667</td>\n",
       "    </tr>\n",
       "    <tr>\n",
       "      <th>...</th>\n",
       "      <td>...</td>\n",
       "      <td>...</td>\n",
       "      <td>...</td>\n",
       "      <td>...</td>\n",
       "    </tr>\n",
       "    <tr>\n",
       "      <th>1216548</th>\n",
       "      <td>22000</td>\n",
       "      <td>부산광역시</td>\n",
       "      <td>27301.047863</td>\n",
       "      <td>23325.710872</td>\n",
       "    </tr>\n",
       "    <tr>\n",
       "      <th>1216549</th>\n",
       "      <td>30750</td>\n",
       "      <td>부산광역시</td>\n",
       "      <td>27299.258130</td>\n",
       "      <td>23325.710872</td>\n",
       "    </tr>\n",
       "    <tr>\n",
       "      <th>1216550</th>\n",
       "      <td>29500</td>\n",
       "      <td>부산광역시</td>\n",
       "      <td>27299.513807</td>\n",
       "      <td>23325.710872</td>\n",
       "    </tr>\n",
       "    <tr>\n",
       "      <th>1216551</th>\n",
       "      <td>26700</td>\n",
       "      <td>부산광역시</td>\n",
       "      <td>27300.086521</td>\n",
       "      <td>26787.013725</td>\n",
       "    </tr>\n",
       "    <tr>\n",
       "      <th>1216552</th>\n",
       "      <td>28800</td>\n",
       "      <td>부산광역시</td>\n",
       "      <td>27299.656985</td>\n",
       "      <td>23325.710872</td>\n",
       "    </tr>\n",
       "  </tbody>\n",
       "</table>\n",
       "<p>1216553 rows × 4 columns</p>\n",
       "</div>"
      ],
      "text/plain": [
       "         transaction_real_price   city           dong            apt\n",
       "0                         37500  서울특별시   47056.250000   46040.000000\n",
       "1                         20000  서울특별시   63410.344828   20000.000000\n",
       "2                         38500  서울특별시   62772.413793   53284.615385\n",
       "3                        118000  서울특별시  107849.009901  107134.545455\n",
       "4                        120000  서울특별시  107839.108911  114846.666667\n",
       "...                         ...    ...            ...            ...\n",
       "1216548                   22000  부산광역시   27301.047863   23325.710872\n",
       "1216549                   30750  부산광역시   27299.258130   23325.710872\n",
       "1216550                   29500  부산광역시   27299.513807   23325.710872\n",
       "1216551                   26700  부산광역시   27300.086521   26787.013725\n",
       "1216552                   28800  부산광역시   27299.656985   23325.710872\n",
       "\n",
       "[1216553 rows x 4 columns]"
      ]
     },
     "execution_count": 7,
     "metadata": {},
     "output_type": "execute_result"
    }
   ],
   "source": [
    "from category_encoders import LeaveOneOutEncoder\n",
    "enc = LeaveOneOutEncoder()\n",
    "data['dong'] = enc.fit_transform(data['dong'],data['transaction_real_price'])\n",
    "data #같은 동임에도 다른 값이 나옴!"
   ]
  },
  {
   "cell_type": "markdown",
   "metadata": {},
   "source": [
    "#### 3. city변수에 CatBoost Encoding (Ordered Target Encoding) 적용"
   ]
  },
  {
   "cell_type": "code",
   "execution_count": 8,
   "metadata": {},
   "outputs": [
    {
     "data": {
      "text/html": [
       "<div>\n",
       "<style scoped>\n",
       "    .dataframe tbody tr th:only-of-type {\n",
       "        vertical-align: middle;\n",
       "    }\n",
       "\n",
       "    .dataframe tbody tr th {\n",
       "        vertical-align: top;\n",
       "    }\n",
       "\n",
       "    .dataframe thead th {\n",
       "        text-align: right;\n",
       "    }\n",
       "</style>\n",
       "<table border=\"1\" class=\"dataframe\">\n",
       "  <thead>\n",
       "    <tr style=\"text-align: right;\">\n",
       "      <th></th>\n",
       "      <th>transaction_real_price</th>\n",
       "      <th>city</th>\n",
       "      <th>dong</th>\n",
       "      <th>apt</th>\n",
       "    </tr>\n",
       "  </thead>\n",
       "  <tbody>\n",
       "    <tr>\n",
       "      <th>0</th>\n",
       "      <td>37500</td>\n",
       "      <td>38227.693100</td>\n",
       "      <td>47056.250000</td>\n",
       "      <td>46040.000000</td>\n",
       "    </tr>\n",
       "    <tr>\n",
       "      <th>1</th>\n",
       "      <td>20000</td>\n",
       "      <td>37863.846550</td>\n",
       "      <td>63410.344828</td>\n",
       "      <td>20000.000000</td>\n",
       "    </tr>\n",
       "    <tr>\n",
       "      <th>2</th>\n",
       "      <td>38500</td>\n",
       "      <td>31909.231033</td>\n",
       "      <td>62772.413793</td>\n",
       "      <td>53284.615385</td>\n",
       "    </tr>\n",
       "    <tr>\n",
       "      <th>3</th>\n",
       "      <td>118000</td>\n",
       "      <td>33556.923275</td>\n",
       "      <td>107849.009901</td>\n",
       "      <td>107134.545455</td>\n",
       "    </tr>\n",
       "    <tr>\n",
       "      <th>4</th>\n",
       "      <td>120000</td>\n",
       "      <td>50445.538620</td>\n",
       "      <td>107839.108911</td>\n",
       "      <td>114846.666667</td>\n",
       "    </tr>\n",
       "    <tr>\n",
       "      <th>...</th>\n",
       "      <td>...</td>\n",
       "      <td>...</td>\n",
       "      <td>...</td>\n",
       "      <td>...</td>\n",
       "    </tr>\n",
       "    <tr>\n",
       "      <th>1216548</th>\n",
       "      <td>22000</td>\n",
       "      <td>21102.013987</td>\n",
       "      <td>27301.047863</td>\n",
       "      <td>23325.710872</td>\n",
       "    </tr>\n",
       "    <tr>\n",
       "      <th>1216549</th>\n",
       "      <td>30750</td>\n",
       "      <td>21102.015881</td>\n",
       "      <td>27299.258130</td>\n",
       "      <td>23325.710872</td>\n",
       "    </tr>\n",
       "    <tr>\n",
       "      <th>1216550</th>\n",
       "      <td>29500</td>\n",
       "      <td>21102.036224</td>\n",
       "      <td>27299.513807</td>\n",
       "      <td>23325.710872</td>\n",
       "    </tr>\n",
       "    <tr>\n",
       "      <th>1216551</th>\n",
       "      <td>26700</td>\n",
       "      <td>21102.053931</td>\n",
       "      <td>27300.086521</td>\n",
       "      <td>26787.013725</td>\n",
       "    </tr>\n",
       "    <tr>\n",
       "      <th>1216552</th>\n",
       "      <td>28800</td>\n",
       "      <td>21102.065734</td>\n",
       "      <td>27299.656985</td>\n",
       "      <td>23325.710872</td>\n",
       "    </tr>\n",
       "  </tbody>\n",
       "</table>\n",
       "<p>1216553 rows × 4 columns</p>\n",
       "</div>"
      ],
      "text/plain": [
       "         transaction_real_price          city           dong            apt\n",
       "0                         37500  38227.693100   47056.250000   46040.000000\n",
       "1                         20000  37863.846550   63410.344828   20000.000000\n",
       "2                         38500  31909.231033   62772.413793   53284.615385\n",
       "3                        118000  33556.923275  107849.009901  107134.545455\n",
       "4                        120000  50445.538620  107839.108911  114846.666667\n",
       "...                         ...           ...            ...            ...\n",
       "1216548                   22000  21102.013987   27301.047863   23325.710872\n",
       "1216549                   30750  21102.015881   27299.258130   23325.710872\n",
       "1216550                   29500  21102.036224   27299.513807   23325.710872\n",
       "1216551                   26700  21102.053931   27300.086521   26787.013725\n",
       "1216552                   28800  21102.065734   27299.656985   23325.710872\n",
       "\n",
       "[1216553 rows x 4 columns]"
      ]
     },
     "execution_count": 8,
     "metadata": {},
     "output_type": "execute_result"
    }
   ],
   "source": [
    "#! pip install category_encoders (설치)\n",
    "from category_encoders import CatBoostEncoder\n",
    "enc = CatBoostEncoder()\n",
    "data['city'] = enc.fit_transform(data['city'],data['transaction_real_price'])\n",
    "data #같은 시임에도 다른 값이 나옴!"
   ]
  }
 ],
 "metadata": {
  "kernelspec": {
   "display_name": "Python 3 (ipykernel)",
   "language": "python",
   "name": "python3"
  },
  "language_info": {
   "codemirror_mode": {
    "name": "ipython",
    "version": 3
   },
   "file_extension": ".py",
   "mimetype": "text/x-python",
   "name": "python",
   "nbconvert_exporter": "python",
   "pygments_lexer": "ipython3",
   "version": "3.8.11"
  },
  "varInspector": {
   "cols": {
    "lenName": 16,
    "lenType": 16,
    "lenVar": 40
   },
   "kernels_config": {
    "python": {
     "delete_cmd_postfix": "",
     "delete_cmd_prefix": "del ",
     "library": "var_list.py",
     "varRefreshCmd": "print(var_dic_list())"
    },
    "r": {
     "delete_cmd_postfix": ") ",
     "delete_cmd_prefix": "rm(",
     "library": "var_list.r",
     "varRefreshCmd": "cat(var_dic_list()) "
    }
   },
   "types_to_exclude": [
    "module",
    "function",
    "builtin_function_or_method",
    "instance",
    "_Feature"
   ],
   "window_display": false
  }
 },
 "nbformat": 4,
 "nbformat_minor": 4
}
