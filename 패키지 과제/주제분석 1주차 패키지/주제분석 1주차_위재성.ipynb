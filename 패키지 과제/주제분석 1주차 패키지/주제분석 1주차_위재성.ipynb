{
 "cells": [
  {
   "cell_type": "markdown",
   "id": "d4626298",
   "metadata": {},
   "source": [
    "# 주제분석 1주차 패키지\n",
    "### 위재성"
   ]
  },
  {
   "cell_type": "markdown",
   "id": "405ca1d1",
   "metadata": {},
   "source": [
    "## Chapter 1 크롤링\n",
    "### 문제0. (기본 세팅) 크롬 드라이버를 설치하고, Beautiful Soup, Selenium 라이브러리를 다운받으세요."
   ]
  },
  {
   "cell_type": "code",
   "execution_count": 46,
   "id": "e98d47a6",
   "metadata": {},
   "outputs": [],
   "source": [
    "import os\n",
    "from selenium import webdriver\n",
    "\n",
    "from selenium.webdriver.common.by import By\n",
    "from bs4 import BeautifulSoup\n",
    "\n",
    "driver = webdriver.Chrome()"
   ]
  },
  {
   "cell_type": "code",
   "execution_count": 47,
   "id": "8ff54eab",
   "metadata": {
    "scrolled": true
   },
   "outputs": [
    {
     "name": "stdout",
     "output_type": "stream",
     "text": [
      "currently on:  0 page\n",
      "currently on:  1 page\n",
      "currently on:  2 page\n",
      "currently on:  3 page\n",
      "currently on:  4 page\n",
      "currently on:  5 page\n",
      "currently on:  6 page\n",
      "currently on:  7 page\n",
      "currently on:  8 page\n",
      "currently on:  9 page\n",
      "currently on:  10 page\n",
      "currently on:  11 page\n",
      "currently on:  12 page\n",
      "currently on:  13 page\n",
      "currently on:  14 page\n",
      "currently on:  15 page\n",
      "currently on:  16 page\n",
      "currently on:  17 page\n",
      "currently on:  18 page\n",
      "currently on:  19 page\n"
     ]
    }
   ],
   "source": [
    "url_base = 'https://www.mk.co.kr/news/stock?page='\n",
    "\n",
    "date = []; head = []; text = []\n",
    "\n",
    "for num in range(0,20):\n",
    "    url = url_base + str(num)\n",
    "    \n",
    "    driver.get(url)\n",
    "    driver.implicitly_wait(5)\n",
    "    print('currently on: ', num,'page')\n",
    "    \n",
    "    source = driver.page_source\n",
    "    soup = BeautifulSoup(source, 'html.parser')\n",
    "    \n",
    "    # 날짜\n",
    "    for i in range(0,25):\n",
    "        date.append(soup.select('span[class=\"date\"]')[i].text)\n",
    "\n",
    "    for j in range(1,26):\n",
    "        # 제목 눌러서 기사 들어가기\n",
    "        driver.find_element(By.XPATH, '//*[@id=\"container_left\"]/div[3]/dl[{0}]/dt/a'.format(j)).click()\n",
    "        \n",
    "        # 제목\n",
    "        head.append(driver.find_element(By.XPATH, '//*[@id=\"top_header\"]/div/div/h1').text)\n",
    "        \n",
    "        # 본문\n",
    "        text.append(driver.find_element(By.XPATH, '//*[@id=\"article_body\"]/div').text)\n",
    "        \n",
    "        driver.back()  # 뒤로 가기"
   ]
  },
  {
   "cell_type": "code",
   "execution_count": 48,
   "id": "32d6287c",
   "metadata": {
    "scrolled": false
   },
   "outputs": [
    {
     "data": {
      "text/html": [
       "<div>\n",
       "<style scoped>\n",
       "    .dataframe tbody tr th:only-of-type {\n",
       "        vertical-align: middle;\n",
       "    }\n",
       "\n",
       "    .dataframe tbody tr th {\n",
       "        vertical-align: top;\n",
       "    }\n",
       "\n",
       "    .dataframe thead th {\n",
       "        text-align: right;\n",
       "    }\n",
       "</style>\n",
       "<table border=\"1\" class=\"dataframe\">\n",
       "  <thead>\n",
       "    <tr style=\"text-align: right;\">\n",
       "      <th></th>\n",
       "      <th>date</th>\n",
       "      <th>title</th>\n",
       "      <th>txt</th>\n",
       "    </tr>\n",
       "  </thead>\n",
       "  <tbody>\n",
       "    <tr>\n",
       "      <th>0</th>\n",
       "      <td>2021.10.25 17:47</td>\n",
       "      <td>'균등배정' 카카오페이…뭉칫돈 청약 없었다</td>\n",
       "      <td>류영준 카카오페이 대표가 25일 온라인 기자간담회를 하고 있다. [사진 제공 = 카...</td>\n",
       "    </tr>\n",
       "    <tr>\n",
       "      <th>1</th>\n",
       "      <td>2021.10.25 17:46</td>\n",
       "      <td>삼성전자 저가매수 자금 '삼성그룹 ETF'에 몰린다</td>\n",
       "      <td>삼성전자 주가가 6만원대로 떨어진 이달 개인투자자는 삼성 계열사에 분산 투자하는 삼...</td>\n",
       "    </tr>\n",
       "    <tr>\n",
       "      <th>2</th>\n",
       "      <td>2021.10.25 17:47</td>\n",
       "      <td>포스코 질주…영업익 4.6배 폭증</td>\n",
       "      <td>포스코가 2개 분기 연속 최대 실적 기록을 갈아치우며 질주를 이어가고 있다. 자동차...</td>\n",
       "    </tr>\n",
       "  </tbody>\n",
       "</table>\n",
       "</div>"
      ],
      "text/plain": [
       "               date                         title  \\\n",
       "0  2021.10.25 17:47       '균등배정' 카카오페이…뭉칫돈 청약 없었다   \n",
       "1  2021.10.25 17:46  삼성전자 저가매수 자금 '삼성그룹 ETF'에 몰린다   \n",
       "2  2021.10.25 17:47            포스코 질주…영업익 4.6배 폭증   \n",
       "\n",
       "                                                 txt  \n",
       "0  류영준 카카오페이 대표가 25일 온라인 기자간담회를 하고 있다. [사진 제공 = 카...  \n",
       "1  삼성전자 주가가 6만원대로 떨어진 이달 개인투자자는 삼성 계열사에 분산 투자하는 삼...  \n",
       "2  포스코가 2개 분기 연속 최대 실적 기록을 갈아치우며 질주를 이어가고 있다. 자동차...  "
      ]
     },
     "execution_count": 48,
     "metadata": {},
     "output_type": "execute_result"
    }
   ],
   "source": [
    "import pandas as pd\n",
    "data = pd.DataFrame({'date': date, 'title': head, 'txt': text})\n",
    "data.head(3)"
   ]
  },
  {
   "cell_type": "code",
   "execution_count": 54,
   "id": "d07c024b",
   "metadata": {
    "scrolled": true
   },
   "outputs": [],
   "source": [
    "data.to_csv('news_data.csv', index=False, encoding = 'utf-8-sig')"
   ]
  },
  {
   "cell_type": "markdown",
   "id": "d1bc81a4",
   "metadata": {},
   "source": [
    "## Chapter 2 워드클라우드\n",
    "### 문제1. 앞에서 크롤링한 데이터의 ‘뉴스기사 제목’ 데이터를 활용하여 워드클라우드를 만들어보세요."
   ]
  },
  {
   "cell_type": "code",
   "execution_count": 55,
   "id": "ac89368b",
   "metadata": {
    "scrolled": false
   },
   "outputs": [],
   "source": [
    "import pandas as pd\n",
    "import numpy as np\n",
    "\n",
    "data = pd.read_csv('news_data.csv')\n",
    "data2 = data.title # 제목만 남겨둠"
   ]
  },
  {
   "cell_type": "code",
   "execution_count": 67,
   "id": "70c947d8",
   "metadata": {
    "scrolled": true
   },
   "outputs": [],
   "source": [
    "from konlpy.tag import Okt\n",
    "from wordcloud import WordCloud, STOPWORDS, ImageColorGenerator\n",
    "from collections import Counter\n",
    "from PIL import Image\n",
    "import matplotlib.pyplot as plt\n",
    "\n",
    "okt = Okt()\n",
    "noun = []\n",
    "\n",
    "# list 해제\n",
    "for title in data2:\n",
    "    item = okt.nouns(title)\n",
    "    noun += item\n",
    "\n",
    "# 1글자인 단어 삭제\n",
    "for i,v in enumerate(noun):\n",
    "    if len(v) < 2 :\n",
    "        noun.remove(v)\n",
    "        \n",
    "count = Counter(noun)\n",
    "noun_list = count.most_common(100) # 빈도수 상위 100개만 도출\n",
    "\n",
    "mask = np.array(Image.open('lion.png')) # 마스크 이미지 생성\n",
    "\n",
    "wc = WordCloud(font_path='08SeoulNamsanEB.ttf',mask = mask, \n",
    "               background_color='white', random_state=42)\n"
   ]
  },
  {
   "cell_type": "code",
   "execution_count": 72,
   "id": "02ae07f4",
   "metadata": {
    "scrolled": true
   },
   "outputs": [
    {
     "data": {
      "text/plain": [
       "[('아이', 222),\n",
       " ('로봇', 219),\n",
       " ('기자', 219),\n",
       " ('특징', 180),\n",
       " ('상승세', 176),\n",
       " ('테마', 172),\n",
       " ('종목', 49),\n",
       " ('코스닥', 39),\n",
       " ('상위', 39),\n",
       " ('코스피', 36),\n",
       " ('게임', 33),\n",
       " ('거래', 29),\n",
       " ('영업', 28),\n",
       " ('대비', 26),\n",
       " ('원자력발전', 24),\n",
       " ('기관', 23),\n",
       " ('작년', 23),\n",
       " ('외국인', 22),\n",
       " ('메타', 22),\n",
       " ('버스', 22),\n",
       " ('이익', 20),\n",
       " ('수도', 20),\n",
       " ('업종', 20),\n",
       " ('스마트폰', 19),\n",
       " ('직전', 19),\n",
       " ('다수', 19),\n",
       " ('투자', 18),\n",
       " ('종합', 17),\n",
       " ('콘텐츠', 17),\n",
       " ('모바일', 17),\n",
       " ('기업', 16),\n",
       " ('증시', 15),\n",
       " ('동기', 15),\n",
       " ('실적', 14),\n",
       " ('증권사', 14),\n",
       " ('매도', 14),\n",
       " ('상장', 13),\n",
       " ('관련', 13),\n",
       " ('금리', 13),\n",
       " ('상승', 13),\n",
       " ('제지', 13),\n",
       " ('자금', 12),\n",
       " ('증권', 12),\n",
       " ('최대', 12),\n",
       " ('지수선물', 12),\n",
       " ('옵션', 12),\n",
       " ('시세', 12),\n",
       " ('하락', 12),\n",
       " ('비트코인', 12),\n",
       " ('포스코', 11),\n",
       " ('공시', 11),\n",
       " ('거래소', 11),\n",
       " ('가상', 11),\n",
       " ('화폐', 11),\n",
       " ('마감', 10),\n",
       " ('강세', 10),\n",
       " ('카카오', 9),\n",
       " ('삼성', 9),\n",
       " ('유가', 9),\n",
       " ('오늘', 9),\n",
       " ('역대', 9),\n",
       " ('코로나', 9),\n",
       " ('대감', 9),\n",
       " ('국내', 9),\n",
       " ('주간', 9),\n",
       " ('뉴욕증시', 9),\n",
       " ('표', 9),\n",
       " ('레이더', 8),\n",
       " ('기술', 8),\n",
       " ('중국', 8),\n",
       " ('종료', 8),\n",
       " ('한국', 8),\n",
       " ('발표', 8),\n",
       " ('영상', 8),\n",
       " ('전자', 7),\n",
       " ('주식', 7),\n",
       " ('체결', 7),\n",
       " ('돌파', 7),\n",
       " ('시장', 7),\n",
       " ('규모', 7),\n",
       " ('공모', 7),\n",
       " ('투자자', 7),\n",
       " ('현대', 7),\n",
       " ('태블릿', 7),\n",
       " ('스푸트니크', 7),\n",
       " ('금융', 7),\n",
       " ('개장', 7),\n",
       " ('개미', 7),\n",
       " ('최고', 7),\n",
       " ('페이', 6),\n",
       " ('청약', 6),\n",
       " ('계약', 6),\n",
       " ('중공업', 6),\n",
       " ('건설', 6),\n",
       " ('급등', 6),\n",
       " ('자산', 6),\n",
       " ('주가', 6),\n",
       " ('항공', 6),\n",
       " ('하나', 6),\n",
       " ('전기', 6)]"
      ]
     },
     "execution_count": 72,
     "metadata": {},
     "output_type": "execute_result"
    }
   ],
   "source": [
    "noun_list"
   ]
  },
  {
   "cell_type": "markdown",
   "id": "a9e60d4b",
   "metadata": {},
   "source": [
    "상위 10개의 명사는 '[아이넷 AI 로봇 기자] 특징주, ... 테마 상승세...', '코스닥 ... 상위종목'등의 반복적인 기사 제목에서 나온 것들이므로 삭제"
   ]
  },
  {
   "cell_type": "code",
   "execution_count": 71,
   "id": "1b67ddd4",
   "metadata": {},
   "outputs": [
    {
     "data": {
      "text/plain": [
       "(-0.5, 859.5, 730.5, -0.5)"
      ]
     },
     "execution_count": 71,
     "metadata": {},
     "output_type": "execute_result"
    },
    {
     "data": {
      "image/png": "[encoded data removed]",
      "text/plain": [
       "<Figure size 432x288 with 1 Axes>"
      ]
     },
     "metadata": {
      "needs_background": "light"
     },
     "output_type": "display_data"
    }
   ],
   "source": [
    "cloud = wc.generate_from_frequencies(dict(noun_list[10:]))\n",
    "\n",
    "image_colors = ImageColorGenerator(mask) # 이미지로부터 색상 추출\n",
    "plt.imshow(cloud.recolor(color_func=image_colors))\n",
    "plt.axis('off')"
   ]
  },
  {
   "cell_type": "markdown",
   "id": "e1d84c30",
   "metadata": {},
   "source": [
    "### 문제2. 워드클라우드를 통해 파악할 수 있는 인사이트를 간단히 적어주세요."
   ]
  },
  {
   "cell_type": "markdown",
   "id": "5265abf6",
   "metadata": {},
   "source": [
    "최근 들어 게임 관련 테마주가 상승하는 추세이며 원자력 발전 테마주도 상승하는 추세인 것을 알 수 있습니다."
   ]
  }
 ],
 "metadata": {
  "kernelspec": {
   "display_name": "Python 3 (ipykernel)",
   "language": "python",
   "name": "python3"
  },
  "language_info": {
   "codemirror_mode": {
    "name": "ipython",
    "version": 3
   },
   "file_extension": ".py",
   "mimetype": "text/x-python",
   "name": "python",
   "nbconvert_exporter": "python",
   "pygments_lexer": "ipython3",
   "version": "3.8.11"
  }
 },
 "nbformat": 4,
 "nbformat_minor": 5
}
