{
 "cells": [
  {
   "cell_type": "markdown",
   "id": "5540a5e0",
   "metadata": {},
   "source": [
    "# 주제분석 3주차 패키지\n",
    "## Chapter1. SVM"
   ]
  },
  {
   "cell_type": "code",
   "execution_count": 1,
   "id": "fcd2e172",
   "metadata": {},
   "outputs": [],
   "source": [
    "import pandas as pd\n",
    "import numpy as np\n",
    "import random\n",
    "import os"
   ]
  },
  {
   "cell_type": "code",
   "execution_count": 2,
   "id": "16f8e2c2",
   "metadata": {},
   "outputs": [],
   "source": [
    "def seed_everything(seed: int = 42):\n",
    "    random.seed(seed)\n",
    "    np.random.seed(seed)\n",
    "    os.environ[\"PYTHONHASHSEED\"] = str(seed)"
   ]
  },
  {
   "cell_type": "code",
   "execution_count": 3,
   "id": "20bcbdfe",
   "metadata": {},
   "outputs": [],
   "source": [
    "seed_everything(2728)"
   ]
  },
  {
   "cell_type": "markdown",
   "id": "a42e36fc",
   "metadata": {},
   "source": [
    "### 문제1. data1.csv항목을 불러와주세요"
   ]
  },
  {
   "cell_type": "code",
   "execution_count": 4,
   "id": "fe9c19ae",
   "metadata": {},
   "outputs": [],
   "source": [
    "data1 = pd.read_csv('data\\data1.csv')"
   ]
  },
  {
   "cell_type": "markdown",
   "id": "f6e73c3f",
   "metadata": {},
   "source": [
    "### 문제2. target의 setosa를 0으로 versicolor를 1로로, virginica를 2로 바꾸어 주세요."
   ]
  },
  {
   "cell_type": "code",
   "execution_count": 5,
   "id": "bb770d8a",
   "metadata": {
    "scrolled": true
   },
   "outputs": [],
   "source": [
    "def refactor(data, column, value, change):\n",
    "    data[column][data[column] == value] = change"
   ]
  },
  {
   "cell_type": "code",
   "execution_count": 6,
   "id": "df24f662",
   "metadata": {
    "collapsed": true
   },
   "outputs": [
    {
     "name": "stderr",
     "output_type": "stream",
     "text": [
      "C:\\Users\\위재성\\AppData\\Local\\Temp/ipykernel_24632/432682092.py:2: SettingWithCopyWarning: \n",
      "A value is trying to be set on a copy of a slice from a DataFrame\n",
      "\n",
      "See the caveats in the documentation: https://pandas.pydata.org/pandas-docs/stable/user_guide/indexing.html#returning-a-view-versus-a-copy\n",
      "  data[column][data[column] == value] = change\n"
     ]
    }
   ],
   "source": [
    "refactor(data1, 'target', 'setosa', 0)\n",
    "refactor(data1, 'target', 'versicolor', 1)\n",
    "refactor(data1, 'target', 'virginica', 2)"
   ]
  },
  {
   "cell_type": "code",
   "execution_count": 7,
   "id": "0593b001",
   "metadata": {
    "scrolled": false
   },
   "outputs": [
    {
     "data": {
      "text/html": [
       "<div>\n",
       "<style scoped>\n",
       "    .dataframe tbody tr th:only-of-type {\n",
       "        vertical-align: middle;\n",
       "    }\n",
       "\n",
       "    .dataframe tbody tr th {\n",
       "        vertical-align: top;\n",
       "    }\n",
       "\n",
       "    .dataframe thead th {\n",
       "        text-align: right;\n",
       "    }\n",
       "</style>\n",
       "<table border=\"1\" class=\"dataframe\">\n",
       "  <thead>\n",
       "    <tr style=\"text-align: right;\">\n",
       "      <th></th>\n",
       "      <th>sepal length (cm)</th>\n",
       "      <th>sepal width (cm)</th>\n",
       "      <th>petal length (cm)</th>\n",
       "      <th>petal width (cm)</th>\n",
       "      <th>target</th>\n",
       "    </tr>\n",
       "  </thead>\n",
       "  <tbody>\n",
       "    <tr>\n",
       "      <th>0</th>\n",
       "      <td>5.1</td>\n",
       "      <td>3.5</td>\n",
       "      <td>1.4</td>\n",
       "      <td>0.2</td>\n",
       "      <td>0</td>\n",
       "    </tr>\n",
       "    <tr>\n",
       "      <th>1</th>\n",
       "      <td>4.9</td>\n",
       "      <td>3.0</td>\n",
       "      <td>1.4</td>\n",
       "      <td>0.2</td>\n",
       "      <td>0</td>\n",
       "    </tr>\n",
       "    <tr>\n",
       "      <th>2</th>\n",
       "      <td>4.7</td>\n",
       "      <td>3.2</td>\n",
       "      <td>1.3</td>\n",
       "      <td>0.2</td>\n",
       "      <td>0</td>\n",
       "    </tr>\n",
       "    <tr>\n",
       "      <th>3</th>\n",
       "      <td>4.6</td>\n",
       "      <td>3.1</td>\n",
       "      <td>1.5</td>\n",
       "      <td>0.2</td>\n",
       "      <td>0</td>\n",
       "    </tr>\n",
       "    <tr>\n",
       "      <th>4</th>\n",
       "      <td>5.0</td>\n",
       "      <td>3.6</td>\n",
       "      <td>1.4</td>\n",
       "      <td>0.2</td>\n",
       "      <td>0</td>\n",
       "    </tr>\n",
       "    <tr>\n",
       "      <th>...</th>\n",
       "      <td>...</td>\n",
       "      <td>...</td>\n",
       "      <td>...</td>\n",
       "      <td>...</td>\n",
       "      <td>...</td>\n",
       "    </tr>\n",
       "    <tr>\n",
       "      <th>145</th>\n",
       "      <td>6.7</td>\n",
       "      <td>3.0</td>\n",
       "      <td>5.2</td>\n",
       "      <td>2.3</td>\n",
       "      <td>2</td>\n",
       "    </tr>\n",
       "    <tr>\n",
       "      <th>146</th>\n",
       "      <td>6.3</td>\n",
       "      <td>2.5</td>\n",
       "      <td>5.0</td>\n",
       "      <td>1.9</td>\n",
       "      <td>2</td>\n",
       "    </tr>\n",
       "    <tr>\n",
       "      <th>147</th>\n",
       "      <td>6.5</td>\n",
       "      <td>3.0</td>\n",
       "      <td>5.2</td>\n",
       "      <td>2.0</td>\n",
       "      <td>2</td>\n",
       "    </tr>\n",
       "    <tr>\n",
       "      <th>148</th>\n",
       "      <td>6.2</td>\n",
       "      <td>3.4</td>\n",
       "      <td>5.4</td>\n",
       "      <td>2.3</td>\n",
       "      <td>2</td>\n",
       "    </tr>\n",
       "    <tr>\n",
       "      <th>149</th>\n",
       "      <td>5.9</td>\n",
       "      <td>3.0</td>\n",
       "      <td>5.1</td>\n",
       "      <td>1.8</td>\n",
       "      <td>2</td>\n",
       "    </tr>\n",
       "  </tbody>\n",
       "</table>\n",
       "<p>150 rows × 5 columns</p>\n",
       "</div>"
      ],
      "text/plain": [
       "     sepal length (cm)  sepal width (cm)  petal length (cm)  petal width (cm)  \\\n",
       "0                  5.1               3.5                1.4               0.2   \n",
       "1                  4.9               3.0                1.4               0.2   \n",
       "2                  4.7               3.2                1.3               0.2   \n",
       "3                  4.6               3.1                1.5               0.2   \n",
       "4                  5.0               3.6                1.4               0.2   \n",
       "..                 ...               ...                ...               ...   \n",
       "145                6.7               3.0                5.2               2.3   \n",
       "146                6.3               2.5                5.0               1.9   \n",
       "147                6.5               3.0                5.2               2.0   \n",
       "148                6.2               3.4                5.4               2.3   \n",
       "149                5.9               3.0                5.1               1.8   \n",
       "\n",
       "    target  \n",
       "0        0  \n",
       "1        0  \n",
       "2        0  \n",
       "3        0  \n",
       "4        0  \n",
       "..     ...  \n",
       "145      2  \n",
       "146      2  \n",
       "147      2  \n",
       "148      2  \n",
       "149      2  \n",
       "\n",
       "[150 rows x 5 columns]"
      ]
     },
     "execution_count": 7,
     "metadata": {},
     "output_type": "execute_result"
    }
   ],
   "source": [
    "data1"
   ]
  },
  {
   "cell_type": "markdown",
   "id": "26fcc113",
   "metadata": {},
   "source": [
    "### 문제3. Test셋과 Train셋를 나눠주세요. (Test셋의 비율은 0.3입니다)"
   ]
  },
  {
   "cell_type": "code",
   "execution_count": 8,
   "id": "df153e2c",
   "metadata": {
    "scrolled": true
   },
   "outputs": [],
   "source": [
    "from sklearn.model_selection import train_test_split\n",
    "\n",
    "X = data1.iloc[:,:2]\n",
    "y = data1['target'].astype('int')\n",
    "\n",
    "X_train, X_test, y_train, y_test = train_test_split(X, y, test_size=0.3, random_state=2728)"
   ]
  },
  {
   "cell_type": "markdown",
   "id": "9781daa8",
   "metadata": {},
   "source": [
    "### 문제4. SVM의 하이퍼 파라미터에 대해서 간단히 적어주세요."
   ]
  },
  {
   "cell_type": "markdown",
   "id": "db08ac68",
   "metadata": {},
   "source": [
    "`C`: 얼마나 많은 샘플이 잘못 분류될지 결정 = 마진의 넓이를 결정  \n",
    "커질수록 허용오차 증가하므로 오버피팅 방지하나 편차는 증가,  \n",
    "반대로 감소하면 오버피팅 가능성 증가하지만 편차는 감소  \n",
    "  \n",
    "`gamma`: 각 데이터 샘플의 영향력을 결정 = 결정경계(Decision Boundary)의 곡률을 결정  \n",
    "커질수록 영향력 감소 = 결정경계가 구불구불해짐  \n",
    "증감에 따른 오버피팅 가능성은 `C`와 동일"
   ]
  },
  {
   "cell_type": "markdown",
   "id": "8d644c69",
   "metadata": {},
   "source": [
    "### 문제5. 하이퍼 파라 피터 튜닝을 해주세요. (서칭할 하이퍼 파라미터는 자유롭게 정하셔도 됩니다.)"
   ]
  },
  {
   "cell_type": "code",
   "execution_count": 9,
   "id": "3e741d39",
   "metadata": {},
   "outputs": [],
   "source": [
    "from sklearn.svm import SVC\n",
    "from sklearn.model_selection import GridSearchCV\n",
    "\n",
    "svm = SVC(kernel = 'linear', random_state=2728)\n",
    "param_grid = {'C': [0.01, 0.1, 1, 10, 30, 50, 70, 100]}\n",
    "\n",
    "grid_search = GridSearchCV(svm, param_grid=param_grid, verbose=3, cv=5) "
   ]
  },
  {
   "cell_type": "code",
   "execution_count": 10,
   "id": "e76a924c",
   "metadata": {
    "scrolled": true
   },
   "outputs": [
    {
     "name": "stdout",
     "output_type": "stream",
     "text": [
      "Fitting 5 folds for each of 8 candidates, totalling 40 fits\n",
      "[CV 1/5] END ............................C=0.01;, score=0.381 total time=   0.0s\n",
      "[CV 2/5] END ............................C=0.01;, score=0.381 total time=   0.0s\n",
      "[CV 3/5] END ............................C=0.01;, score=0.381 total time=   0.0s\n",
      "[CV 4/5] END ............................C=0.01;, score=0.381 total time=   0.0s\n",
      "[CV 5/5] END ............................C=0.01;, score=0.381 total time=   0.0s\n",
      "[CV 1/5] END .............................C=0.1;, score=0.810 total time=   0.0s\n",
      "[CV 2/5] END .............................C=0.1;, score=0.762 total time=   0.0s\n",
      "[CV 3/5] END .............................C=0.1;, score=0.714 total time=   0.0s\n",
      "[CV 4/5] END .............................C=0.1;, score=0.810 total time=   0.0s\n",
      "[CV 5/5] END .............................C=0.1;, score=0.810 total time=   0.0s\n",
      "[CV 1/5] END ...............................C=1;, score=0.857 total time=   0.0s\n",
      "[CV 2/5] END ...............................C=1;, score=0.857 total time=   0.0s\n",
      "[CV 3/5] END ...............................C=1;, score=0.714 total time=   0.0s\n",
      "[CV 4/5] END ...............................C=1;, score=0.952 total time=   0.0s\n",
      "[CV 5/5] END ...............................C=1;, score=0.714 total time=   0.0s\n",
      "[CV 1/5] END ..............................C=10;, score=0.857 total time=   0.0s\n",
      "[CV 2/5] END ..............................C=10;, score=0.762 total time=   0.0s\n",
      "[CV 3/5] END ..............................C=10;, score=0.714 total time=   0.0s\n",
      "[CV 4/5] END ..............................C=10;, score=0.952 total time=   0.0s\n",
      "[CV 5/5] END ..............................C=10;, score=0.667 total time=   0.0s\n",
      "[CV 1/5] END ..............................C=30;, score=0.857 total time=   0.0s\n",
      "[CV 2/5] END ..............................C=30;, score=0.762 total time=   0.0s\n",
      "[CV 3/5] END ..............................C=30;, score=0.714 total time=   0.0s\n",
      "[CV 4/5] END ..............................C=30;, score=0.905 total time=   0.0s\n",
      "[CV 5/5] END ..............................C=30;, score=0.667 total time=   0.0s\n",
      "[CV 1/5] END ..............................C=50;, score=0.857 total time=   0.0s\n",
      "[CV 2/5] END ..............................C=50;, score=0.762 total time=   0.0s\n",
      "[CV 3/5] END ..............................C=50;, score=0.714 total time=   0.0s\n",
      "[CV 4/5] END ..............................C=50;, score=0.857 total time=   0.0s\n",
      "[CV 5/5] END ..............................C=50;, score=0.667 total time=   0.0s\n",
      "[CV 1/5] END ..............................C=70;, score=0.857 total time=   0.0s\n",
      "[CV 2/5] END ..............................C=70;, score=0.762 total time=   0.0s\n",
      "[CV 3/5] END ..............................C=70;, score=0.714 total time=   0.0s\n",
      "[CV 4/5] END ..............................C=70;, score=0.857 total time=   0.0s\n",
      "[CV 5/5] END ..............................C=70;, score=0.667 total time=   0.0s\n",
      "[CV 1/5] END .............................C=100;, score=0.857 total time=   0.0s\n",
      "[CV 2/5] END .............................C=100;, score=0.762 total time=   0.0s\n",
      "[CV 3/5] END .............................C=100;, score=0.714 total time=   0.0s\n",
      "[CV 4/5] END .............................C=100;, score=0.857 total time=   0.0s\n",
      "[CV 5/5] END .............................C=100;, score=0.667 total time=   0.0s\n"
     ]
    },
    {
     "data": {
      "text/plain": [
       "GridSearchCV(cv=5, estimator=SVC(kernel='linear', random_state=2728),\n",
       "             param_grid={'C': [0.01, 0.1, 1, 10, 30, 50, 70, 100]}, verbose=3)"
      ]
     },
     "execution_count": 10,
     "metadata": {},
     "output_type": "execute_result"
    }
   ],
   "source": [
    "grid_search.fit(X_train,y_train)"
   ]
  },
  {
   "cell_type": "markdown",
   "id": "a73dba3e",
   "metadata": {},
   "source": [
    "### 문제6. 최적 파라미터 조합과 결과를 출력하세요."
   ]
  },
  {
   "cell_type": "code",
   "execution_count": 11,
   "id": "405c0675",
   "metadata": {
    "scrolled": false
   },
   "outputs": [
    {
     "data": {
      "text/plain": [
       "{'C': 1}"
      ]
     },
     "execution_count": 11,
     "metadata": {},
     "output_type": "execute_result"
    }
   ],
   "source": [
    "grid_search.best_params_"
   ]
  },
  {
   "cell_type": "code",
   "execution_count": 12,
   "id": "0860b3f4",
   "metadata": {},
   "outputs": [
    {
     "data": {
      "text/plain": [
       "0.819047619047619"
      ]
     },
     "execution_count": 12,
     "metadata": {},
     "output_type": "execute_result"
    }
   ],
   "source": [
    "grid_search.best_score_"
   ]
  },
  {
   "cell_type": "markdown",
   "id": "d9ad5233",
   "metadata": {},
   "source": [
    "### 문제7. 테스트셋을 예측한 뒤 결과를 출력하세요."
   ]
  },
  {
   "cell_type": "code",
   "execution_count": 13,
   "id": "08e82654",
   "metadata": {
    "scrolled": false
   },
   "outputs": [
    {
     "data": {
      "text/plain": [
       "array([0, 1, 0, 2, 0, 0, 0, 0, 0, 0, 0, 1, 0, 2, 0, 2, 0, 2, 1, 2, 1, 1,\n",
       "       0, 1, 0, 2, 1, 0, 0, 0, 2, 0, 1, 1, 1, 0, 2, 2, 2, 0, 1, 1, 2, 1,\n",
       "       1])"
      ]
     },
     "execution_count": 13,
     "metadata": {},
     "output_type": "execute_result"
    }
   ],
   "source": [
    "grid_search.predict(X_test)"
   ]
  },
  {
   "cell_type": "code",
   "execution_count": 14,
   "id": "689c136e",
   "metadata": {
    "scrolled": true
   },
   "outputs": [
    {
     "data": {
      "text/plain": [
       "0.7777777777777778"
      ]
     },
     "execution_count": 14,
     "metadata": {},
     "output_type": "execute_result"
    }
   ],
   "source": [
    "grid_search.score(X_test,y_test)"
   ]
  },
  {
   "cell_type": "markdown",
   "id": "57b17a6b",
   "metadata": {},
   "source": [
    "### 문제8. 다음과 같이 Deicision Boundary를 그려보세요."
   ]
  },
  {
   "cell_type": "code",
   "execution_count": 15,
   "id": "f16d1671",
   "metadata": {
    "scrolled": true
   },
   "outputs": [
    {
     "data": {
      "image/png": "[encoded data removed]",
      "text/plain": [
       "<Figure size 432x288 with 1 Axes>"
      ]
     },
     "metadata": {},
     "output_type": "display_data"
    }
   ],
   "source": [
    "import matplotlib.pyplot as plt\n",
    "h = .02\n",
    "x_min, x_max = X.iloc[:, 0].min() - 1, X.iloc[:, 0].max() + 1\n",
    "y_min, y_max = X.iloc[:, 1].min() - 1, X.iloc[:, 1].max() + 1\n",
    "xx, yy = np.meshgrid(np.arange(x_min, x_max, h),\n",
    "                     np.arange(y_min, y_max, h))\n",
    "Z = grid_search.predict(np.c_[xx.ravel(), yy.ravel()])\n",
    "\n",
    "\n",
    "Z = Z.reshape(xx.shape)\n",
    "plt.contourf(xx, yy, Z, cmap=plt.cm.coolwarm, alpha=0.8)\n",
    "\n",
    "\n",
    "plt.scatter(X.iloc[:, 0], X.iloc[:, 1], c=y, cmap=plt.cm.coolwarm)\n",
    "plt.xlabel('Sepal length')\n",
    "plt.ylabel('Sepal width')\n",
    "plt.xlim(xx.min(), xx.max())\n",
    "plt.ylim(yy.min(), yy.max())\n",
    "plt.xticks(())\n",
    "plt.yticks(())\n",
    "plt.title('SVM')\n",
    "\n",
    "plt.show()"
   ]
  },
  {
   "cell_type": "markdown",
   "id": "c127e133",
   "metadata": {},
   "source": [
    "## Chapter2. LGBM\n",
    "### 문제1. data2.csv를 불러와주세요."
   ]
  },
  {
   "cell_type": "code",
   "execution_count": 18,
   "id": "bf2e415a",
   "metadata": {},
   "outputs": [],
   "source": [
    "data2 = pd.read_csv('data\\data2.csv')"
   ]
  },
  {
   "cell_type": "code",
   "execution_count": 19,
   "id": "645dcee3",
   "metadata": {},
   "outputs": [
    {
     "data": {
      "text/html": [
       "<div>\n",
       "<style scoped>\n",
       "    .dataframe tbody tr th:only-of-type {\n",
       "        vertical-align: middle;\n",
       "    }\n",
       "\n",
       "    .dataframe tbody tr th {\n",
       "        vertical-align: top;\n",
       "    }\n",
       "\n",
       "    .dataframe thead th {\n",
       "        text-align: right;\n",
       "    }\n",
       "</style>\n",
       "<table border=\"1\" class=\"dataframe\">\n",
       "  <thead>\n",
       "    <tr style=\"text-align: right;\">\n",
       "      <th></th>\n",
       "      <th>target</th>\n",
       "      <th>MedInc</th>\n",
       "      <th>HouseAge</th>\n",
       "      <th>AveRooms</th>\n",
       "      <th>AveBedrms</th>\n",
       "      <th>Population</th>\n",
       "      <th>AveOccup</th>\n",
       "      <th>Latitude</th>\n",
       "      <th>Longitude</th>\n",
       "    </tr>\n",
       "  </thead>\n",
       "  <tbody>\n",
       "    <tr>\n",
       "      <th>0</th>\n",
       "      <td>4.526</td>\n",
       "      <td>8.3252</td>\n",
       "      <td>41.0</td>\n",
       "      <td>6.984127</td>\n",
       "      <td>1.023810</td>\n",
       "      <td>322.0</td>\n",
       "      <td>2.555556</td>\n",
       "      <td>37.88</td>\n",
       "      <td>-122.23</td>\n",
       "    </tr>\n",
       "    <tr>\n",
       "      <th>1</th>\n",
       "      <td>3.585</td>\n",
       "      <td>8.3014</td>\n",
       "      <td>21.0</td>\n",
       "      <td>6.238137</td>\n",
       "      <td>0.971880</td>\n",
       "      <td>2401.0</td>\n",
       "      <td>2.109842</td>\n",
       "      <td>37.86</td>\n",
       "      <td>-122.22</td>\n",
       "    </tr>\n",
       "    <tr>\n",
       "      <th>2</th>\n",
       "      <td>3.521</td>\n",
       "      <td>7.2574</td>\n",
       "      <td>52.0</td>\n",
       "      <td>8.288136</td>\n",
       "      <td>1.073446</td>\n",
       "      <td>496.0</td>\n",
       "      <td>2.802260</td>\n",
       "      <td>37.85</td>\n",
       "      <td>-122.24</td>\n",
       "    </tr>\n",
       "    <tr>\n",
       "      <th>3</th>\n",
       "      <td>3.413</td>\n",
       "      <td>5.6431</td>\n",
       "      <td>52.0</td>\n",
       "      <td>5.817352</td>\n",
       "      <td>1.073059</td>\n",
       "      <td>558.0</td>\n",
       "      <td>2.547945</td>\n",
       "      <td>37.85</td>\n",
       "      <td>-122.25</td>\n",
       "    </tr>\n",
       "    <tr>\n",
       "      <th>4</th>\n",
       "      <td>3.422</td>\n",
       "      <td>3.8462</td>\n",
       "      <td>52.0</td>\n",
       "      <td>6.281853</td>\n",
       "      <td>1.081081</td>\n",
       "      <td>565.0</td>\n",
       "      <td>2.181467</td>\n",
       "      <td>37.85</td>\n",
       "      <td>-122.25</td>\n",
       "    </tr>\n",
       "    <tr>\n",
       "      <th>...</th>\n",
       "      <td>...</td>\n",
       "      <td>...</td>\n",
       "      <td>...</td>\n",
       "      <td>...</td>\n",
       "      <td>...</td>\n",
       "      <td>...</td>\n",
       "      <td>...</td>\n",
       "      <td>...</td>\n",
       "      <td>...</td>\n",
       "    </tr>\n",
       "    <tr>\n",
       "      <th>20635</th>\n",
       "      <td>0.781</td>\n",
       "      <td>1.5603</td>\n",
       "      <td>25.0</td>\n",
       "      <td>5.045455</td>\n",
       "      <td>1.133333</td>\n",
       "      <td>845.0</td>\n",
       "      <td>2.560606</td>\n",
       "      <td>39.48</td>\n",
       "      <td>-121.09</td>\n",
       "    </tr>\n",
       "    <tr>\n",
       "      <th>20636</th>\n",
       "      <td>0.771</td>\n",
       "      <td>2.5568</td>\n",
       "      <td>18.0</td>\n",
       "      <td>6.114035</td>\n",
       "      <td>1.315789</td>\n",
       "      <td>356.0</td>\n",
       "      <td>3.122807</td>\n",
       "      <td>39.49</td>\n",
       "      <td>-121.21</td>\n",
       "    </tr>\n",
       "    <tr>\n",
       "      <th>20637</th>\n",
       "      <td>0.923</td>\n",
       "      <td>1.7000</td>\n",
       "      <td>17.0</td>\n",
       "      <td>5.205543</td>\n",
       "      <td>1.120092</td>\n",
       "      <td>1007.0</td>\n",
       "      <td>2.325635</td>\n",
       "      <td>39.43</td>\n",
       "      <td>-121.22</td>\n",
       "    </tr>\n",
       "    <tr>\n",
       "      <th>20638</th>\n",
       "      <td>0.847</td>\n",
       "      <td>1.8672</td>\n",
       "      <td>18.0</td>\n",
       "      <td>5.329513</td>\n",
       "      <td>1.171920</td>\n",
       "      <td>741.0</td>\n",
       "      <td>2.123209</td>\n",
       "      <td>39.43</td>\n",
       "      <td>-121.32</td>\n",
       "    </tr>\n",
       "    <tr>\n",
       "      <th>20639</th>\n",
       "      <td>0.894</td>\n",
       "      <td>2.3886</td>\n",
       "      <td>16.0</td>\n",
       "      <td>5.254717</td>\n",
       "      <td>1.162264</td>\n",
       "      <td>1387.0</td>\n",
       "      <td>2.616981</td>\n",
       "      <td>39.37</td>\n",
       "      <td>-121.24</td>\n",
       "    </tr>\n",
       "  </tbody>\n",
       "</table>\n",
       "<p>20640 rows × 9 columns</p>\n",
       "</div>"
      ],
      "text/plain": [
       "       target  MedInc  HouseAge  AveRooms  AveBedrms  Population  AveOccup  \\\n",
       "0       4.526  8.3252      41.0  6.984127   1.023810       322.0  2.555556   \n",
       "1       3.585  8.3014      21.0  6.238137   0.971880      2401.0  2.109842   \n",
       "2       3.521  7.2574      52.0  8.288136   1.073446       496.0  2.802260   \n",
       "3       3.413  5.6431      52.0  5.817352   1.073059       558.0  2.547945   \n",
       "4       3.422  3.8462      52.0  6.281853   1.081081       565.0  2.181467   \n",
       "...       ...     ...       ...       ...        ...         ...       ...   \n",
       "20635   0.781  1.5603      25.0  5.045455   1.133333       845.0  2.560606   \n",
       "20636   0.771  2.5568      18.0  6.114035   1.315789       356.0  3.122807   \n",
       "20637   0.923  1.7000      17.0  5.205543   1.120092      1007.0  2.325635   \n",
       "20638   0.847  1.8672      18.0  5.329513   1.171920       741.0  2.123209   \n",
       "20639   0.894  2.3886      16.0  5.254717   1.162264      1387.0  2.616981   \n",
       "\n",
       "       Latitude  Longitude  \n",
       "0         37.88    -122.23  \n",
       "1         37.86    -122.22  \n",
       "2         37.85    -122.24  \n",
       "3         37.85    -122.25  \n",
       "4         37.85    -122.25  \n",
       "...         ...        ...  \n",
       "20635     39.48    -121.09  \n",
       "20636     39.49    -121.21  \n",
       "20637     39.43    -121.22  \n",
       "20638     39.43    -121.32  \n",
       "20639     39.37    -121.24  \n",
       "\n",
       "[20640 rows x 9 columns]"
      ]
     },
     "execution_count": 19,
     "metadata": {},
     "output_type": "execute_result"
    }
   ],
   "source": [
    "data2"
   ]
  },
  {
   "cell_type": "markdown",
   "id": "8a9e38ab",
   "metadata": {},
   "source": [
    "### 문제2. Test셋과 Train셋을 나눠주세요."
   ]
  },
  {
   "cell_type": "code",
   "execution_count": 68,
   "id": "9c575420",
   "metadata": {},
   "outputs": [],
   "source": [
    "X = data2.iloc[:,1:]\n",
    "y = data2['target'].astype('int')\n",
    "\n",
    "X_train, X_test, y_train, y_test = train_test_split(X, y, test_size=0.3, random_state=2728)"
   ]
  },
  {
   "cell_type": "code",
   "execution_count": 21,
   "id": "79cc85fb",
   "metadata": {},
   "outputs": [
    {
     "data": {
      "text/html": [
       "<div>\n",
       "<style scoped>\n",
       "    .dataframe tbody tr th:only-of-type {\n",
       "        vertical-align: middle;\n",
       "    }\n",
       "\n",
       "    .dataframe tbody tr th {\n",
       "        vertical-align: top;\n",
       "    }\n",
       "\n",
       "    .dataframe thead th {\n",
       "        text-align: right;\n",
       "    }\n",
       "</style>\n",
       "<table border=\"1\" class=\"dataframe\">\n",
       "  <thead>\n",
       "    <tr style=\"text-align: right;\">\n",
       "      <th></th>\n",
       "      <th>target</th>\n",
       "      <th>MedInc</th>\n",
       "      <th>HouseAge</th>\n",
       "      <th>AveRooms</th>\n",
       "      <th>AveBedrms</th>\n",
       "      <th>Population</th>\n",
       "      <th>AveOccup</th>\n",
       "      <th>Latitude</th>\n",
       "      <th>Longitude</th>\n",
       "    </tr>\n",
       "  </thead>\n",
       "  <tbody>\n",
       "    <tr>\n",
       "      <th>0</th>\n",
       "      <td>4.526</td>\n",
       "      <td>8.3252</td>\n",
       "      <td>41.0</td>\n",
       "      <td>6.984127</td>\n",
       "      <td>1.023810</td>\n",
       "      <td>322.0</td>\n",
       "      <td>2.555556</td>\n",
       "      <td>37.88</td>\n",
       "      <td>-122.23</td>\n",
       "    </tr>\n",
       "    <tr>\n",
       "      <th>1</th>\n",
       "      <td>3.585</td>\n",
       "      <td>8.3014</td>\n",
       "      <td>21.0</td>\n",
       "      <td>6.238137</td>\n",
       "      <td>0.971880</td>\n",
       "      <td>2401.0</td>\n",
       "      <td>2.109842</td>\n",
       "      <td>37.86</td>\n",
       "      <td>-122.22</td>\n",
       "    </tr>\n",
       "    <tr>\n",
       "      <th>2</th>\n",
       "      <td>3.521</td>\n",
       "      <td>7.2574</td>\n",
       "      <td>52.0</td>\n",
       "      <td>8.288136</td>\n",
       "      <td>1.073446</td>\n",
       "      <td>496.0</td>\n",
       "      <td>2.802260</td>\n",
       "      <td>37.85</td>\n",
       "      <td>-122.24</td>\n",
       "    </tr>\n",
       "    <tr>\n",
       "      <th>3</th>\n",
       "      <td>3.413</td>\n",
       "      <td>5.6431</td>\n",
       "      <td>52.0</td>\n",
       "      <td>5.817352</td>\n",
       "      <td>1.073059</td>\n",
       "      <td>558.0</td>\n",
       "      <td>2.547945</td>\n",
       "      <td>37.85</td>\n",
       "      <td>-122.25</td>\n",
       "    </tr>\n",
       "    <tr>\n",
       "      <th>4</th>\n",
       "      <td>3.422</td>\n",
       "      <td>3.8462</td>\n",
       "      <td>52.0</td>\n",
       "      <td>6.281853</td>\n",
       "      <td>1.081081</td>\n",
       "      <td>565.0</td>\n",
       "      <td>2.181467</td>\n",
       "      <td>37.85</td>\n",
       "      <td>-122.25</td>\n",
       "    </tr>\n",
       "    <tr>\n",
       "      <th>...</th>\n",
       "      <td>...</td>\n",
       "      <td>...</td>\n",
       "      <td>...</td>\n",
       "      <td>...</td>\n",
       "      <td>...</td>\n",
       "      <td>...</td>\n",
       "      <td>...</td>\n",
       "      <td>...</td>\n",
       "      <td>...</td>\n",
       "    </tr>\n",
       "    <tr>\n",
       "      <th>20635</th>\n",
       "      <td>0.781</td>\n",
       "      <td>1.5603</td>\n",
       "      <td>25.0</td>\n",
       "      <td>5.045455</td>\n",
       "      <td>1.133333</td>\n",
       "      <td>845.0</td>\n",
       "      <td>2.560606</td>\n",
       "      <td>39.48</td>\n",
       "      <td>-121.09</td>\n",
       "    </tr>\n",
       "    <tr>\n",
       "      <th>20636</th>\n",
       "      <td>0.771</td>\n",
       "      <td>2.5568</td>\n",
       "      <td>18.0</td>\n",
       "      <td>6.114035</td>\n",
       "      <td>1.315789</td>\n",
       "      <td>356.0</td>\n",
       "      <td>3.122807</td>\n",
       "      <td>39.49</td>\n",
       "      <td>-121.21</td>\n",
       "    </tr>\n",
       "    <tr>\n",
       "      <th>20637</th>\n",
       "      <td>0.923</td>\n",
       "      <td>1.7000</td>\n",
       "      <td>17.0</td>\n",
       "      <td>5.205543</td>\n",
       "      <td>1.120092</td>\n",
       "      <td>1007.0</td>\n",
       "      <td>2.325635</td>\n",
       "      <td>39.43</td>\n",
       "      <td>-121.22</td>\n",
       "    </tr>\n",
       "    <tr>\n",
       "      <th>20638</th>\n",
       "      <td>0.847</td>\n",
       "      <td>1.8672</td>\n",
       "      <td>18.0</td>\n",
       "      <td>5.329513</td>\n",
       "      <td>1.171920</td>\n",
       "      <td>741.0</td>\n",
       "      <td>2.123209</td>\n",
       "      <td>39.43</td>\n",
       "      <td>-121.32</td>\n",
       "    </tr>\n",
       "    <tr>\n",
       "      <th>20639</th>\n",
       "      <td>0.894</td>\n",
       "      <td>2.3886</td>\n",
       "      <td>16.0</td>\n",
       "      <td>5.254717</td>\n",
       "      <td>1.162264</td>\n",
       "      <td>1387.0</td>\n",
       "      <td>2.616981</td>\n",
       "      <td>39.37</td>\n",
       "      <td>-121.24</td>\n",
       "    </tr>\n",
       "  </tbody>\n",
       "</table>\n",
       "<p>20640 rows × 9 columns</p>\n",
       "</div>"
      ],
      "text/plain": [
       "       target  MedInc  HouseAge  AveRooms  AveBedrms  Population  AveOccup  \\\n",
       "0       4.526  8.3252      41.0  6.984127   1.023810       322.0  2.555556   \n",
       "1       3.585  8.3014      21.0  6.238137   0.971880      2401.0  2.109842   \n",
       "2       3.521  7.2574      52.0  8.288136   1.073446       496.0  2.802260   \n",
       "3       3.413  5.6431      52.0  5.817352   1.073059       558.0  2.547945   \n",
       "4       3.422  3.8462      52.0  6.281853   1.081081       565.0  2.181467   \n",
       "...       ...     ...       ...       ...        ...         ...       ...   \n",
       "20635   0.781  1.5603      25.0  5.045455   1.133333       845.0  2.560606   \n",
       "20636   0.771  2.5568      18.0  6.114035   1.315789       356.0  3.122807   \n",
       "20637   0.923  1.7000      17.0  5.205543   1.120092      1007.0  2.325635   \n",
       "20638   0.847  1.8672      18.0  5.329513   1.171920       741.0  2.123209   \n",
       "20639   0.894  2.3886      16.0  5.254717   1.162264      1387.0  2.616981   \n",
       "\n",
       "       Latitude  Longitude  \n",
       "0         37.88    -122.23  \n",
       "1         37.86    -122.22  \n",
       "2         37.85    -122.24  \n",
       "3         37.85    -122.25  \n",
       "4         37.85    -122.25  \n",
       "...         ...        ...  \n",
       "20635     39.48    -121.09  \n",
       "20636     39.49    -121.21  \n",
       "20637     39.43    -121.22  \n",
       "20638     39.43    -121.32  \n",
       "20639     39.37    -121.24  \n",
       "\n",
       "[20640 rows x 9 columns]"
      ]
     },
     "execution_count": 21,
     "metadata": {},
     "output_type": "execute_result"
    }
   ],
   "source": [
    "data2"
   ]
  },
  {
   "cell_type": "markdown",
   "id": "036ec73c",
   "metadata": {},
   "source": [
    "### 문제3. LGBM 파라미터에 대해서 간단히 적어주세요."
   ]
  },
  {
   "cell_type": "markdown",
   "id": "1b904246",
   "metadata": {},
   "source": [
    "`max_depth`: 트리의 최대깊이, 모델 과적합 방지에 사용, 깊어질수록 과적합 가능성 증가  \n",
    "`min_child_samples`: 노드가 스플릿 될 때 노드에 들어갈 데이터의 최소 개수, 커질수록 트리높이는 감소  \n",
    "`num_leaves`: 트리가 가지는 잎의 최대 개수, 커질수록 정확도 상승하지만 복잡도도 증가"
   ]
  },
  {
   "cell_type": "markdown",
   "id": "aefda9a7",
   "metadata": {},
   "source": [
    "### 문제4. LGBM 하이퍼 파라미터 튜닝을 해주세요."
   ]
  },
  {
   "cell_type": "code",
   "execution_count": 69,
   "id": "e15bb957",
   "metadata": {},
   "outputs": [],
   "source": [
    "param_grid = {'max_depth': [10,20],\n",
    "             'min_child_samples': [20,40,60,80],\n",
    "             'num_leaves': [60,70,80]}"
   ]
  },
  {
   "cell_type": "code",
   "execution_count": 72,
   "id": "58acdadb",
   "metadata": {},
   "outputs": [],
   "source": [
    "import lightgbm as lgbm\n",
    "\n",
    "lgb = lgbm.LGBMRegressor(random_state=2728)\n",
    "grid_search = GridSearchCV(lgb, param_grid=param_grid, verbose=3, cv=5, scoring='neg_root_mean_squared_error') "
   ]
  },
  {
   "cell_type": "code",
   "execution_count": 73,
   "id": "3ffb8241",
   "metadata": {
    "scrolled": true
   },
   "outputs": [
    {
     "name": "stdout",
     "output_type": "stream",
     "text": [
      "Fitting 5 folds for each of 24 candidates, totalling 120 fits\n",
      "[CV 1/5] END max_depth=10, min_child_samples=20, num_leaves=60;, score=-0.577 total time=   0.0s\n",
      "[CV 2/5] END max_depth=10, min_child_samples=20, num_leaves=60;, score=-0.581 total time=   0.0s\n",
      "[CV 3/5] END max_depth=10, min_child_samples=20, num_leaves=60;, score=-0.562 total time=   0.0s\n",
      "[CV 4/5] END max_depth=10, min_child_samples=20, num_leaves=60;, score=-0.595 total time=   0.0s\n",
      "[CV 5/5] END max_depth=10, min_child_samples=20, num_leaves=60;, score=-0.563 total time=   0.0s\n",
      "[CV 1/5] END max_depth=10, min_child_samples=20, num_leaves=70;, score=-0.578 total time=   0.0s\n",
      "[CV 2/5] END max_depth=10, min_child_samples=20, num_leaves=70;, score=-0.580 total time=   0.0s\n",
      "[CV 3/5] END max_depth=10, min_child_samples=20, num_leaves=70;, score=-0.562 total time=   0.0s\n",
      "[CV 4/5] END max_depth=10, min_child_samples=20, num_leaves=70;, score=-0.591 total time=   0.0s\n",
      "[CV 5/5] END max_depth=10, min_child_samples=20, num_leaves=70;, score=-0.564 total time=   0.0s\n",
      "[CV 1/5] END max_depth=10, min_child_samples=20, num_leaves=80;, score=-0.577 total time=   0.1s\n",
      "[CV 2/5] END max_depth=10, min_child_samples=20, num_leaves=80;, score=-0.577 total time=   0.0s\n",
      "[CV 3/5] END max_depth=10, min_child_samples=20, num_leaves=80;, score=-0.564 total time=   0.0s\n",
      "[CV 4/5] END max_depth=10, min_child_samples=20, num_leaves=80;, score=-0.597 total time=   0.0s\n",
      "[CV 5/5] END max_depth=10, min_child_samples=20, num_leaves=80;, score=-0.563 total time=   0.0s\n",
      "[CV 1/5] END max_depth=10, min_child_samples=40, num_leaves=60;, score=-0.580 total time=   0.0s\n",
      "[CV 2/5] END max_depth=10, min_child_samples=40, num_leaves=60;, score=-0.583 total time=   0.0s\n",
      "[CV 3/5] END max_depth=10, min_child_samples=40, num_leaves=60;, score=-0.566 total time=   0.0s\n",
      "[CV 4/5] END max_depth=10, min_child_samples=40, num_leaves=60;, score=-0.595 total time=   0.0s\n",
      "[CV 5/5] END max_depth=10, min_child_samples=40, num_leaves=60;, score=-0.562 total time=   0.0s\n",
      "[CV 1/5] END max_depth=10, min_child_samples=40, num_leaves=70;, score=-0.583 total time=   0.0s\n",
      "[CV 2/5] END max_depth=10, min_child_samples=40, num_leaves=70;, score=-0.585 total time=   0.0s\n",
      "[CV 3/5] END max_depth=10, min_child_samples=40, num_leaves=70;, score=-0.568 total time=   0.0s\n",
      "[CV 4/5] END max_depth=10, min_child_samples=40, num_leaves=70;, score=-0.595 total time=   0.0s\n",
      "[CV 5/5] END max_depth=10, min_child_samples=40, num_leaves=70;, score=-0.567 total time=   0.0s\n",
      "[CV 1/5] END max_depth=10, min_child_samples=40, num_leaves=80;, score=-0.575 total time=   0.0s\n",
      "[CV 2/5] END max_depth=10, min_child_samples=40, num_leaves=80;, score=-0.583 total time=   0.0s\n",
      "[CV 3/5] END max_depth=10, min_child_samples=40, num_leaves=80;, score=-0.567 total time=   0.0s\n",
      "[CV 4/5] END max_depth=10, min_child_samples=40, num_leaves=80;, score=-0.598 total time=   0.0s\n",
      "[CV 5/5] END max_depth=10, min_child_samples=40, num_leaves=80;, score=-0.566 total time=   0.0s\n",
      "[CV 1/5] END max_depth=10, min_child_samples=60, num_leaves=60;, score=-0.579 total time=   0.0s\n",
      "[CV 2/5] END max_depth=10, min_child_samples=60, num_leaves=60;, score=-0.588 total time=   0.0s\n",
      "[CV 3/5] END max_depth=10, min_child_samples=60, num_leaves=60;, score=-0.567 total time=   0.0s\n",
      "[CV 4/5] END max_depth=10, min_child_samples=60, num_leaves=60;, score=-0.601 total time=   0.0s\n",
      "[CV 5/5] END max_depth=10, min_child_samples=60, num_leaves=60;, score=-0.566 total time=   0.0s\n",
      "[CV 1/5] END max_depth=10, min_child_samples=60, num_leaves=70;, score=-0.583 total time=   0.0s\n",
      "[CV 2/5] END max_depth=10, min_child_samples=60, num_leaves=70;, score=-0.586 total time=   0.0s\n",
      "[CV 3/5] END max_depth=10, min_child_samples=60, num_leaves=70;, score=-0.566 total time=   0.0s\n",
      "[CV 4/5] END max_depth=10, min_child_samples=60, num_leaves=70;, score=-0.599 total time=   0.0s\n",
      "[CV 5/5] END max_depth=10, min_child_samples=60, num_leaves=70;, score=-0.565 total time=   0.0s\n",
      "[CV 1/5] END max_depth=10, min_child_samples=60, num_leaves=80;, score=-0.578 total time=   0.0s\n",
      "[CV 2/5] END max_depth=10, min_child_samples=60, num_leaves=80;, score=-0.586 total time=   0.0s\n",
      "[CV 3/5] END max_depth=10, min_child_samples=60, num_leaves=80;, score=-0.566 total time=   0.0s\n",
      "[CV 4/5] END max_depth=10, min_child_samples=60, num_leaves=80;, score=-0.599 total time=   0.0s\n",
      "[CV 5/5] END max_depth=10, min_child_samples=60, num_leaves=80;, score=-0.569 total time=   0.0s\n",
      "[CV 1/5] END max_depth=10, min_child_samples=80, num_leaves=60;, score=-0.583 total time=   0.0s\n",
      "[CV 2/5] END max_depth=10, min_child_samples=80, num_leaves=60;, score=-0.591 total time=   0.0s\n",
      "[CV 3/5] END max_depth=10, min_child_samples=80, num_leaves=60;, score=-0.568 total time=   0.0s\n",
      "[CV 4/5] END max_depth=10, min_child_samples=80, num_leaves=60;, score=-0.605 total time=   0.0s\n",
      "[CV 5/5] END max_depth=10, min_child_samples=80, num_leaves=60;, score=-0.566 total time=   0.0s\n",
      "[CV 1/5] END max_depth=10, min_child_samples=80, num_leaves=70;, score=-0.584 total time=   0.0s\n",
      "[CV 2/5] END max_depth=10, min_child_samples=80, num_leaves=70;, score=-0.588 total time=   0.0s\n",
      "[CV 3/5] END max_depth=10, min_child_samples=80, num_leaves=70;, score=-0.569 total time=   0.0s\n",
      "[CV 4/5] END max_depth=10, min_child_samples=80, num_leaves=70;, score=-0.603 total time=   0.0s\n",
      "[CV 5/5] END max_depth=10, min_child_samples=80, num_leaves=70;, score=-0.568 total time=   0.0s\n",
      "[CV 1/5] END max_depth=10, min_child_samples=80, num_leaves=80;, score=-0.586 total time=   0.0s\n",
      "[CV 2/5] END max_depth=10, min_child_samples=80, num_leaves=80;, score=-0.589 total time=   0.0s\n",
      "[CV 3/5] END max_depth=10, min_child_samples=80, num_leaves=80;, score=-0.567 total time=   0.0s\n",
      "[CV 4/5] END max_depth=10, min_child_samples=80, num_leaves=80;, score=-0.601 total time=   0.0s\n",
      "[CV 5/5] END max_depth=10, min_child_samples=80, num_leaves=80;, score=-0.567 total time=   0.0s\n",
      "[CV 1/5] END max_depth=20, min_child_samples=20, num_leaves=60;, score=-0.573 total time=   0.0s\n",
      "[CV 2/5] END max_depth=20, min_child_samples=20, num_leaves=60;, score=-0.582 total time=   0.1s\n",
      "[CV 3/5] END max_depth=20, min_child_samples=20, num_leaves=60;, score=-0.559 total time=   0.0s\n",
      "[CV 4/5] END max_depth=20, min_child_samples=20, num_leaves=60;, score=-0.598 total time=   0.0s\n",
      "[CV 5/5] END max_depth=20, min_child_samples=20, num_leaves=60;, score=-0.564 total time=   0.0s\n",
      "[CV 1/5] END max_depth=20, min_child_samples=20, num_leaves=70;, score=-0.575 total time=   0.0s\n",
      "[CV 2/5] END max_depth=20, min_child_samples=20, num_leaves=70;, score=-0.577 total time=   0.0s\n",
      "[CV 3/5] END max_depth=20, min_child_samples=20, num_leaves=70;, score=-0.558 total time=   0.1s\n",
      "[CV 4/5] END max_depth=20, min_child_samples=20, num_leaves=70;, score=-0.589 total time=   0.1s\n",
      "[CV 5/5] END max_depth=20, min_child_samples=20, num_leaves=70;, score=-0.561 total time=   0.1s\n",
      "[CV 1/5] END max_depth=20, min_child_samples=20, num_leaves=80;, score=-0.573 total time=   0.0s\n",
      "[CV 2/5] END max_depth=20, min_child_samples=20, num_leaves=80;, score=-0.580 total time=   0.1s\n",
      "[CV 3/5] END max_depth=20, min_child_samples=20, num_leaves=80;, score=-0.556 total time=   0.0s\n",
      "[CV 4/5] END max_depth=20, min_child_samples=20, num_leaves=80;, score=-0.592 total time=   0.0s\n",
      "[CV 5/5] END max_depth=20, min_child_samples=20, num_leaves=80;, score=-0.564 total time=   0.0s\n",
      "[CV 1/5] END max_depth=20, min_child_samples=40, num_leaves=60;, score=-0.576 total time=   0.0s\n",
      "[CV 2/5] END max_depth=20, min_child_samples=40, num_leaves=60;, score=-0.584 total time=   0.0s\n",
      "[CV 3/5] END max_depth=20, min_child_samples=40, num_leaves=60;, score=-0.561 total time=   0.0s\n",
      "[CV 4/5] END max_depth=20, min_child_samples=40, num_leaves=60;, score=-0.594 total time=   0.0s\n",
      "[CV 5/5] END max_depth=20, min_child_samples=40, num_leaves=60;, score=-0.560 total time=   0.0s\n",
      "[CV 1/5] END max_depth=20, min_child_samples=40, num_leaves=70;, score=-0.577 total time=   0.0s\n",
      "[CV 2/5] END max_depth=20, min_child_samples=40, num_leaves=70;, score=-0.579 total time=   0.0s\n",
      "[CV 3/5] END max_depth=20, min_child_samples=40, num_leaves=70;, score=-0.562 total time=   0.0s\n",
      "[CV 4/5] END max_depth=20, min_child_samples=40, num_leaves=70;, score=-0.593 total time=   0.0s\n",
      "[CV 5/5] END max_depth=20, min_child_samples=40, num_leaves=70;, score=-0.561 total time=   0.0s\n"
     ]
    },
    {
     "name": "stdout",
     "output_type": "stream",
     "text": [
      "[CV 1/5] END max_depth=20, min_child_samples=40, num_leaves=80;, score=-0.575 total time=   0.0s\n",
      "[CV 2/5] END max_depth=20, min_child_samples=40, num_leaves=80;, score=-0.577 total time=   0.0s\n",
      "[CV 3/5] END max_depth=20, min_child_samples=40, num_leaves=80;, score=-0.560 total time=   0.0s\n",
      "[CV 4/5] END max_depth=20, min_child_samples=40, num_leaves=80;, score=-0.594 total time=   0.1s\n",
      "[CV 5/5] END max_depth=20, min_child_samples=40, num_leaves=80;, score=-0.559 total time=   0.1s\n",
      "[CV 1/5] END max_depth=20, min_child_samples=60, num_leaves=60;, score=-0.574 total time=   0.0s\n",
      "[CV 2/5] END max_depth=20, min_child_samples=60, num_leaves=60;, score=-0.583 total time=   0.0s\n",
      "[CV 3/5] END max_depth=20, min_child_samples=60, num_leaves=60;, score=-0.563 total time=   0.0s\n",
      "[CV 4/5] END max_depth=20, min_child_samples=60, num_leaves=60;, score=-0.596 total time=   0.0s\n",
      "[CV 5/5] END max_depth=20, min_child_samples=60, num_leaves=60;, score=-0.564 total time=   0.0s\n",
      "[CV 1/5] END max_depth=20, min_child_samples=60, num_leaves=70;, score=-0.576 total time=   0.0s\n",
      "[CV 2/5] END max_depth=20, min_child_samples=60, num_leaves=70;, score=-0.580 total time=   0.0s\n",
      "[CV 3/5] END max_depth=20, min_child_samples=60, num_leaves=70;, score=-0.564 total time=   0.0s\n",
      "[CV 4/5] END max_depth=20, min_child_samples=60, num_leaves=70;, score=-0.597 total time=   0.0s\n",
      "[CV 5/5] END max_depth=20, min_child_samples=60, num_leaves=70;, score=-0.560 total time=   0.0s\n",
      "[CV 1/5] END max_depth=20, min_child_samples=60, num_leaves=80;, score=-0.578 total time=   0.0s\n",
      "[CV 2/5] END max_depth=20, min_child_samples=60, num_leaves=80;, score=-0.581 total time=   0.0s\n",
      "[CV 3/5] END max_depth=20, min_child_samples=60, num_leaves=80;, score=-0.559 total time=   0.0s\n",
      "[CV 4/5] END max_depth=20, min_child_samples=60, num_leaves=80;, score=-0.594 total time=   0.0s\n",
      "[CV 5/5] END max_depth=20, min_child_samples=60, num_leaves=80;, score=-0.558 total time=   0.0s\n",
      "[CV 1/5] END max_depth=20, min_child_samples=80, num_leaves=60;, score=-0.577 total time=   0.0s\n",
      "[CV 2/5] END max_depth=20, min_child_samples=80, num_leaves=60;, score=-0.584 total time=   0.0s\n",
      "[CV 3/5] END max_depth=20, min_child_samples=80, num_leaves=60;, score=-0.563 total time=   0.0s\n",
      "[CV 4/5] END max_depth=20, min_child_samples=80, num_leaves=60;, score=-0.595 total time=   0.0s\n",
      "[CV 5/5] END max_depth=20, min_child_samples=80, num_leaves=60;, score=-0.562 total time=   0.0s\n",
      "[CV 1/5] END max_depth=20, min_child_samples=80, num_leaves=70;, score=-0.576 total time=   0.0s\n",
      "[CV 2/5] END max_depth=20, min_child_samples=80, num_leaves=70;, score=-0.583 total time=   0.0s\n",
      "[CV 3/5] END max_depth=20, min_child_samples=80, num_leaves=70;, score=-0.566 total time=   0.0s\n",
      "[CV 4/5] END max_depth=20, min_child_samples=80, num_leaves=70;, score=-0.598 total time=   0.0s\n",
      "[CV 5/5] END max_depth=20, min_child_samples=80, num_leaves=70;, score=-0.560 total time=   0.0s\n",
      "[CV 1/5] END max_depth=20, min_child_samples=80, num_leaves=80;, score=-0.579 total time=   0.0s\n",
      "[CV 2/5] END max_depth=20, min_child_samples=80, num_leaves=80;, score=-0.585 total time=   0.0s\n",
      "[CV 3/5] END max_depth=20, min_child_samples=80, num_leaves=80;, score=-0.563 total time=   0.0s\n",
      "[CV 4/5] END max_depth=20, min_child_samples=80, num_leaves=80;, score=-0.593 total time=   0.0s\n",
      "[CV 5/5] END max_depth=20, min_child_samples=80, num_leaves=80;, score=-0.560 total time=   0.0s\n"
     ]
    },
    {
     "data": {
      "text/plain": [
       "GridSearchCV(cv=5, estimator=LGBMRegressor(random_state=2728),\n",
       "             param_grid={'max_depth': [10, 20],\n",
       "                         'min_child_samples': [20, 40, 60, 80],\n",
       "                         'num_leaves': [60, 70, 80]},\n",
       "             scoring='neg_root_mean_squared_error', verbose=3)"
      ]
     },
     "execution_count": 73,
     "metadata": {},
     "output_type": "execute_result"
    }
   ],
   "source": [
    "grid_search.fit(X_train,y_train)"
   ]
  },
  {
   "cell_type": "markdown",
   "id": "0c4c56bb",
   "metadata": {},
   "source": [
    "### 문제5. 최적의 파라미터와 결과를 출력하세요."
   ]
  },
  {
   "cell_type": "code",
   "execution_count": 74,
   "id": "544dc162",
   "metadata": {
    "scrolled": true
   },
   "outputs": [
    {
     "data": {
      "text/plain": [
       "{'max_depth': 20, 'min_child_samples': 20, 'num_leaves': 70}"
      ]
     },
     "execution_count": 74,
     "metadata": {},
     "output_type": "execute_result"
    }
   ],
   "source": [
    "grid_search.best_params_"
   ]
  },
  {
   "cell_type": "code",
   "execution_count": 75,
   "id": "d0305c65",
   "metadata": {},
   "outputs": [
    {
     "data": {
      "text/plain": [
       "0.5719105860483396"
      ]
     },
     "execution_count": 75,
     "metadata": {},
     "output_type": "execute_result"
    }
   ],
   "source": [
    "-grid_search.best_score_"
   ]
  },
  {
   "cell_type": "markdown",
   "id": "396a250e",
   "metadata": {},
   "source": [
    "### 문제7. 테스트셋을 예측한 뒤 결과를 출력하세요."
   ]
  },
  {
   "cell_type": "code",
   "execution_count": 76,
   "id": "2cee0088",
   "metadata": {
    "scrolled": true
   },
   "outputs": [
    {
     "data": {
      "text/plain": [
       "array([0.90782302, 1.01016723, 1.98891128, ..., 1.14831756, 1.75685528,\n",
       "       4.95140882])"
      ]
     },
     "execution_count": 76,
     "metadata": {},
     "output_type": "execute_result"
    }
   ],
   "source": [
    "grid_search.predict(X_test)"
   ]
  },
  {
   "cell_type": "code",
   "execution_count": 77,
   "id": "4668224a",
   "metadata": {
    "scrolled": true
   },
   "outputs": [
    {
     "data": {
      "text/plain": [
       "0.5647941259295253"
      ]
     },
     "execution_count": 77,
     "metadata": {},
     "output_type": "execute_result"
    }
   ],
   "source": [
    "-grid_search.score(X_test,y_test)"
   ]
  },
  {
   "cell_type": "markdown",
   "id": "faf3fc75",
   "metadata": {},
   "source": [
    "## Chapter3. LSTM\n",
    "### 문제1. Samsung.csv를 불러와주세요"
   ]
  },
  {
   "cell_type": "code",
   "execution_count": 29,
   "id": "1d2ed7b4",
   "metadata": {},
   "outputs": [],
   "source": [
    "data = pd.read_csv('data\\Samsung.csv')"
   ]
  },
  {
   "cell_type": "code",
   "execution_count": 30,
   "id": "f29f422e",
   "metadata": {},
   "outputs": [],
   "source": [
    "data = data.sort_values(by=['Date'], ascending=True) # 최근 60일 구하기 위해 정렬"
   ]
  },
  {
   "cell_type": "code",
   "execution_count": 31,
   "id": "c5df70b5",
   "metadata": {},
   "outputs": [
    {
     "data": {
      "text/html": [
       "<div>\n",
       "<style scoped>\n",
       "    .dataframe tbody tr th:only-of-type {\n",
       "        vertical-align: middle;\n",
       "    }\n",
       "\n",
       "    .dataframe tbody tr th {\n",
       "        vertical-align: top;\n",
       "    }\n",
       "\n",
       "    .dataframe thead th {\n",
       "        text-align: right;\n",
       "    }\n",
       "</style>\n",
       "<table border=\"1\" class=\"dataframe\">\n",
       "  <thead>\n",
       "    <tr style=\"text-align: right;\">\n",
       "      <th></th>\n",
       "      <th>Date</th>\n",
       "      <th>Price</th>\n",
       "      <th>Open</th>\n",
       "      <th>High</th>\n",
       "      <th>Low</th>\n",
       "      <th>Vol.</th>\n",
       "    </tr>\n",
       "  </thead>\n",
       "  <tbody>\n",
       "    <tr>\n",
       "      <th>0</th>\n",
       "      <td>2019-10-01</td>\n",
       "      <td>48,850</td>\n",
       "      <td>48,900</td>\n",
       "      <td>49,100</td>\n",
       "      <td>48,650</td>\n",
       "      <td>6.20M</td>\n",
       "    </tr>\n",
       "    <tr>\n",
       "      <th>1</th>\n",
       "      <td>2019-10-02</td>\n",
       "      <td>47,600</td>\n",
       "      <td>48,350</td>\n",
       "      <td>48,400</td>\n",
       "      <td>47,600</td>\n",
       "      <td>8.37M</td>\n",
       "    </tr>\n",
       "    <tr>\n",
       "      <th>2</th>\n",
       "      <td>2019-10-03</td>\n",
       "      <td>47,600</td>\n",
       "      <td>47,600</td>\n",
       "      <td>47,600</td>\n",
       "      <td>47,600</td>\n",
       "      <td>-</td>\n",
       "    </tr>\n",
       "    <tr>\n",
       "      <th>3</th>\n",
       "      <td>2019-10-04</td>\n",
       "      <td>48,000</td>\n",
       "      <td>47,400</td>\n",
       "      <td>48,650</td>\n",
       "      <td>47,350</td>\n",
       "      <td>8.46M</td>\n",
       "    </tr>\n",
       "    <tr>\n",
       "      <th>4</th>\n",
       "      <td>2019-10-06</td>\n",
       "      <td>48,000</td>\n",
       "      <td>48,000</td>\n",
       "      <td>48,000</td>\n",
       "      <td>48,000</td>\n",
       "      <td>-</td>\n",
       "    </tr>\n",
       "    <tr>\n",
       "      <th>...</th>\n",
       "      <td>...</td>\n",
       "      <td>...</td>\n",
       "      <td>...</td>\n",
       "      <td>...</td>\n",
       "      <td>...</td>\n",
       "      <td>...</td>\n",
       "    </tr>\n",
       "    <tr>\n",
       "      <th>622</th>\n",
       "      <td>2021-10-26</td>\n",
       "      <td>71,100</td>\n",
       "      <td>70,500</td>\n",
       "      <td>71,500</td>\n",
       "      <td>70,400</td>\n",
       "      <td>8.81K</td>\n",
       "    </tr>\n",
       "    <tr>\n",
       "      <th>623</th>\n",
       "      <td>2021-10-27</td>\n",
       "      <td>70,100</td>\n",
       "      <td>71,000</td>\n",
       "      <td>71,000</td>\n",
       "      <td>70,000</td>\n",
       "      <td>3.67K</td>\n",
       "    </tr>\n",
       "    <tr>\n",
       "      <th>624</th>\n",
       "      <td>2021-10-28</td>\n",
       "      <td>70,700</td>\n",
       "      <td>69,600</td>\n",
       "      <td>72,100</td>\n",
       "      <td>69,500</td>\n",
       "      <td>2.15K</td>\n",
       "    </tr>\n",
       "    <tr>\n",
       "      <th>625</th>\n",
       "      <td>2021-10-29</td>\n",
       "      <td>69,800</td>\n",
       "      <td>71,200</td>\n",
       "      <td>71,600</td>\n",
       "      <td>69,700</td>\n",
       "      <td>16.50M</td>\n",
       "    </tr>\n",
       "    <tr>\n",
       "      <th>626</th>\n",
       "      <td>2021-10-31</td>\n",
       "      <td>69,800</td>\n",
       "      <td>69,800</td>\n",
       "      <td>69,800</td>\n",
       "      <td>69,800</td>\n",
       "      <td>-</td>\n",
       "    </tr>\n",
       "  </tbody>\n",
       "</table>\n",
       "<p>627 rows × 6 columns</p>\n",
       "</div>"
      ],
      "text/plain": [
       "           Date   Price    Open    High     Low    Vol.\n",
       "0    2019-10-01  48,850  48,900  49,100  48,650   6.20M\n",
       "1    2019-10-02  47,600  48,350  48,400  47,600   8.37M\n",
       "2    2019-10-03  47,600  47,600  47,600  47,600       -\n",
       "3    2019-10-04  48,000  47,400  48,650  47,350   8.46M\n",
       "4    2019-10-06  48,000  48,000  48,000  48,000       -\n",
       "..          ...     ...     ...     ...     ...     ...\n",
       "622  2021-10-26  71,100  70,500  71,500  70,400   8.81K\n",
       "623  2021-10-27  70,100  71,000  71,000  70,000   3.67K\n",
       "624  2021-10-28  70,700  69,600  72,100  69,500   2.15K\n",
       "625  2021-10-29  69,800  71,200  71,600  69,700  16.50M\n",
       "626  2021-10-31  69,800  69,800  69,800  69,800       -\n",
       "\n",
       "[627 rows x 6 columns]"
      ]
     },
     "execution_count": 31,
     "metadata": {},
     "output_type": "execute_result"
    }
   ],
   "source": [
    "data"
   ]
  },
  {
   "cell_type": "markdown",
   "id": "894abbcb",
   "metadata": {},
   "source": [
    "### 문제2. 데이터 형식을 확인해보고, 수치형으로 바꾸어 주세요."
   ]
  },
  {
   "cell_type": "code",
   "execution_count": 32,
   "id": "48fcbe2f",
   "metadata": {
    "scrolled": true
   },
   "outputs": [
    {
     "data": {
      "text/plain": [
       "Date     object\n",
       "Price    object\n",
       "Open     object\n",
       "High     object\n",
       "Low      object\n",
       "Vol.     object\n",
       "dtype: object"
      ]
     },
     "execution_count": 32,
     "metadata": {},
     "output_type": "execute_result"
    }
   ],
   "source": [
    "data.dtypes"
   ]
  },
  {
   "cell_type": "code",
   "execution_count": 33,
   "id": "1bdef513",
   "metadata": {},
   "outputs": [],
   "source": [
    "def to_num(data):\n",
    "    # 쉼표 삭제 후 수치형으로 변경\n",
    "    num_data = data.replace('[^0-9]','',regex=True).apply(pd.to_numeric)\n",
    "    return num_data"
   ]
  },
  {
   "cell_type": "code",
   "execution_count": 34,
   "id": "294d05e9",
   "metadata": {},
   "outputs": [],
   "source": [
    "data = to_num(data.iloc[:,1:5])"
   ]
  },
  {
   "cell_type": "code",
   "execution_count": 35,
   "id": "8be8153e",
   "metadata": {
    "scrolled": true
   },
   "outputs": [
    {
     "data": {
      "text/plain": [
       "Price    int64\n",
       "Open     int64\n",
       "High     int64\n",
       "Low      int64\n",
       "dtype: object"
      ]
     },
     "execution_count": 35,
     "metadata": {},
     "output_type": "execute_result"
    }
   ],
   "source": [
    "data.dtypes"
   ]
  },
  {
   "cell_type": "markdown",
   "id": "de2593c6",
   "metadata": {},
   "source": [
    "### 문제3. 테스트 데이터를 분리해주세요. (테스트 데이터는 최근 60일입니다.)"
   ]
  },
  {
   "cell_type": "code",
   "execution_count": 36,
   "id": "fbccf84a",
   "metadata": {},
   "outputs": [],
   "source": [
    "train = data.iloc[:-60,:]\n",
    "test = data.iloc[-60:,:]"
   ]
  },
  {
   "cell_type": "code",
   "execution_count": 37,
   "id": "4176a3b6",
   "metadata": {},
   "outputs": [
    {
     "data": {
      "text/plain": [
       "(   Price   Open   High    Low\n",
       " 0  48850  48900  49100  48650\n",
       " 1  47600  48350  48400  47600\n",
       " 2  47600  47600  47600  47600,\n",
       "      Price   Open   High    Low\n",
       " 567  74200  74300  75100  74000\n",
       " 568  73900  73900  74600  73100\n",
       " 569  73100  73500  74400  73100)"
      ]
     },
     "execution_count": 37,
     "metadata": {},
     "output_type": "execute_result"
    }
   ],
   "source": [
    "train.head(3), test.head(3)"
   ]
  },
  {
   "cell_type": "markdown",
   "id": "c08c8a24",
   "metadata": {},
   "source": [
    "### 문제 4. Train과 Test셋을 모두 스케일링 시켜주세요."
   ]
  },
  {
   "cell_type": "code",
   "execution_count": 38,
   "id": "99a443bc",
   "metadata": {},
   "outputs": [],
   "source": [
    "from sklearn.preprocessing import MinMaxScaler\n",
    "scale = MinMaxScaler()\n",
    "train_scale = scale.fit_transform(train)\n",
    "test_scale = scale.transform(test)"
   ]
  },
  {
   "cell_type": "markdown",
   "id": "aeae1f15",
   "metadata": {},
   "source": [
    "### 문제5. Window사이즈에 맞게 Train과 테스트 셋을 구성해주세요. (아래의 그림을 참고하여 X와 y데이터를 구성해주세요; Window_size = 20)"
   ]
  },
  {
   "cell_type": "code",
   "execution_count": 39,
   "id": "c2d47962",
   "metadata": {},
   "outputs": [],
   "source": [
    "def create_dataset(dataset, window_size):\n",
    "    X=[];y=[]\n",
    "    for i in range(len(dataset)-window_size):\n",
    "        X.append(dataset[i:(i+window_size), 1:])\n",
    "        y.append(dataset[i + window_size, 0])\n",
    "    return(np.array(X),np.array(y))"
   ]
  },
  {
   "cell_type": "code",
   "execution_count": 40,
   "id": "26a05e09",
   "metadata": {},
   "outputs": [],
   "source": [
    "window_size = 20\n",
    "\n",
    "X_train, y_train = create_dataset(train_scale,window_size)\n",
    "X_test, y_test = create_dataset(test_scale,window_size)"
   ]
  },
  {
   "cell_type": "markdown",
   "id": "e2082c27",
   "metadata": {},
   "source": [
    "### 문제6. 문제5. LSTM 딥러닝 모델을 구성해주세요. ( Layer수, Unit수 등을 자유롭게 변형시켜보세요! )"
   ]
  },
  {
   "cell_type": "code",
   "execution_count": 58,
   "id": "0b056218",
   "metadata": {
    "scrolled": true
   },
   "outputs": [
    {
     "name": "stdout",
     "output_type": "stream",
     "text": [
      "Model: \"sequential_5\"\n",
      "_________________________________________________________________\n",
      "Layer (type)                 Output Shape              Param #   \n",
      "=================================================================\n",
      "lstm_5 (LSTM)                (None, 10)                560       \n",
      "_________________________________________________________________\n",
      "dense_10 (Dense)             (None, 5)                 55        \n",
      "_________________________________________________________________\n",
      "dense_11 (Dense)             (None, 1)                 6         \n",
      "=================================================================\n",
      "Total params: 621\n",
      "Trainable params: 621\n",
      "Non-trainable params: 0\n",
      "_________________________________________________________________\n",
      "Epoch 1/100\n",
      "35/35 [==============================] - 1s 3ms/step - loss: 0.1161\n",
      "Epoch 2/100\n",
      "35/35 [==============================] - 0s 3ms/step - loss: 0.0042\n",
      "Epoch 3/100\n",
      "35/35 [==============================] - 0s 4ms/step - loss: 0.0031\n",
      "Epoch 4/100\n",
      "35/35 [==============================] - 0s 3ms/step - loss: 0.0027\n",
      "Epoch 5/100\n",
      "35/35 [==============================] - 0s 3ms/step - loss: 0.0026\n",
      "Epoch 6/100\n",
      "35/35 [==============================] - 0s 3ms/step - loss: 0.0026\n",
      "Epoch 7/100\n",
      "35/35 [==============================] - 0s 3ms/step - loss: 0.0025\n",
      "Epoch 8/100\n",
      "35/35 [==============================] - 0s 3ms/step - loss: 0.0025\n",
      "Epoch 9/100\n",
      "35/35 [==============================] - 0s 3ms/step - loss: 0.0025\n",
      "Epoch 10/100\n",
      "35/35 [==============================] - 0s 3ms/step - loss: 0.0023\n",
      "Epoch 11/100\n",
      "35/35 [==============================] - 0s 3ms/step - loss: 0.0022\n",
      "Epoch 12/100\n",
      "35/35 [==============================] - 0s 3ms/step - loss: 0.0022\n",
      "Epoch 13/100\n",
      "35/35 [==============================] - 0s 3ms/step - loss: 0.0021\n",
      "Epoch 14/100\n",
      "35/35 [==============================] - 0s 3ms/step - loss: 0.0020\n",
      "Epoch 15/100\n",
      "35/35 [==============================] - 0s 3ms/step - loss: 0.0020\n",
      "Epoch 16/100\n",
      "35/35 [==============================] - 0s 3ms/step - loss: 0.0019\n",
      "Epoch 17/100\n",
      "35/35 [==============================] - 0s 3ms/step - loss: 0.0019\n",
      "Epoch 18/100\n",
      "35/35 [==============================] - 0s 3ms/step - loss: 0.0018\n",
      "Epoch 19/100\n",
      "35/35 [==============================] - 0s 3ms/step - loss: 0.0018\n",
      "Epoch 20/100\n",
      "35/35 [==============================] - 0s 3ms/step - loss: 0.0018\n",
      "Epoch 21/100\n",
      "35/35 [==============================] - 0s 3ms/step - loss: 0.0016\n",
      "Epoch 22/100\n",
      "35/35 [==============================] - 0s 3ms/step - loss: 0.0016\n",
      "Epoch 23/100\n",
      "35/35 [==============================] - 0s 3ms/step - loss: 0.0014\n",
      "Epoch 24/100\n",
      "35/35 [==============================] - 0s 3ms/step - loss: 0.0013\n",
      "Epoch 25/100\n",
      "35/35 [==============================] - 0s 3ms/step - loss: 0.0012\n",
      "Epoch 26/100\n",
      "35/35 [==============================] - 0s 3ms/step - loss: 0.0012\n",
      "Epoch 27/100\n",
      "35/35 [==============================] - 0s 3ms/step - loss: 0.0011\n",
      "Epoch 28/100\n",
      "35/35 [==============================] - 0s 3ms/step - loss: 0.0011\n",
      "Epoch 29/100\n",
      "35/35 [==============================] - 0s 3ms/step - loss: 0.0010\n",
      "Epoch 30/100\n",
      "35/35 [==============================] - 0s 3ms/step - loss: 9.9976e-04\n",
      "Epoch 31/100\n",
      "35/35 [==============================] - 0s 3ms/step - loss: 9.5811e-04\n",
      "Epoch 32/100\n",
      "35/35 [==============================] - 0s 3ms/step - loss: 9.5878e-04\n",
      "Epoch 33/100\n",
      "35/35 [==============================] - 0s 3ms/step - loss: 9.7827e-04\n",
      "Epoch 34/100\n",
      "35/35 [==============================] - 0s 3ms/step - loss: 0.0010\n",
      "Epoch 35/100\n",
      "35/35 [==============================] - 0s 3ms/step - loss: 9.1605e-04\n",
      "Epoch 36/100\n",
      "35/35 [==============================] - 0s 3ms/step - loss: 9.2988e-04\n",
      "Epoch 37/100\n",
      "35/35 [==============================] - 0s 3ms/step - loss: 9.1179e-04\n",
      "Epoch 38/100\n",
      "35/35 [==============================] - 0s 3ms/step - loss: 9.4958e-04\n",
      "Epoch 39/100\n",
      "35/35 [==============================] - 0s 3ms/step - loss: 0.0010\n",
      "Epoch 40/100\n",
      "35/35 [==============================] - 0s 3ms/step - loss: 9.2235e-04\n",
      "Epoch 41/100\n",
      "35/35 [==============================] - 0s 3ms/step - loss: 9.3174e-04\n",
      "Epoch 42/100\n",
      "35/35 [==============================] - 0s 3ms/step - loss: 9.0539e-04\n",
      "Epoch 43/100\n",
      "35/35 [==============================] - 0s 3ms/step - loss: 9.5480e-04\n",
      "Epoch 44/100\n",
      "35/35 [==============================] - 0s 3ms/step - loss: 8.5642e-04\n",
      "Epoch 45/100\n",
      "35/35 [==============================] - 0s 3ms/step - loss: 8.7232e-04\n",
      "Epoch 46/100\n",
      "35/35 [==============================] - 0s 3ms/step - loss: 8.6926e-04\n",
      "Epoch 47/100\n",
      "35/35 [==============================] - 0s 3ms/step - loss: 8.8239e-04\n",
      "Epoch 48/100\n",
      "35/35 [==============================] - 0s 3ms/step - loss: 8.7970e-04\n",
      "Epoch 49/100\n",
      "35/35 [==============================] - 0s 3ms/step - loss: 8.6324e-04\n",
      "Epoch 50/100\n",
      "35/35 [==============================] - 0s 3ms/step - loss: 8.4746e-04\n",
      "Epoch 51/100\n",
      "35/35 [==============================] - 0s 3ms/step - loss: 8.3759e-04\n",
      "Epoch 52/100\n",
      "35/35 [==============================] - 0s 3ms/step - loss: 8.8958e-04\n",
      "Epoch 53/100\n",
      "35/35 [==============================] - 0s 3ms/step - loss: 8.9538e-04\n",
      "Epoch 54/100\n",
      "35/35 [==============================] - 0s 3ms/step - loss: 8.3202e-04\n",
      "Epoch 55/100\n",
      "35/35 [==============================] - 0s 3ms/step - loss: 8.2989e-04\n",
      "Epoch 56/100\n",
      "35/35 [==============================] - 0s 3ms/step - loss: 8.4421e-04\n",
      "Epoch 57/100\n",
      "35/35 [==============================] - 0s 3ms/step - loss: 8.2026e-04\n",
      "Epoch 58/100\n",
      "35/35 [==============================] - 0s 3ms/step - loss: 8.0470e-04\n",
      "Epoch 59/100\n",
      "35/35 [==============================] - 0s 3ms/step - loss: 8.4675e-04\n",
      "Epoch 60/100\n",
      "35/35 [==============================] - 0s 3ms/step - loss: 8.0080e-04\n",
      "Epoch 61/100\n",
      "35/35 [==============================] - 0s 3ms/step - loss: 8.0806e-04\n",
      "Epoch 62/100\n",
      "35/35 [==============================] - 0s 3ms/step - loss: 8.2649e-04\n",
      "Epoch 63/100\n",
      "35/35 [==============================] - 0s 3ms/step - loss: 8.8367e-04\n",
      "Epoch 64/100\n",
      "35/35 [==============================] - 0s 3ms/step - loss: 8.0336e-04\n",
      "Epoch 65/100\n",
      "35/35 [==============================] - 0s 3ms/step - loss: 8.4861e-04\n",
      "Epoch 66/100\n",
      "35/35 [==============================] - 0s 3ms/step - loss: 8.0735e-04\n",
      "Epoch 67/100\n",
      "35/35 [==============================] - 0s 3ms/step - loss: 8.0836e-04\n",
      "Epoch 68/100\n",
      "35/35 [==============================] - 0s 3ms/step - loss: 7.8516e-04\n",
      "Epoch 69/100\n",
      "35/35 [==============================] - 0s 3ms/step - loss: 7.6155e-04\n",
      "Epoch 70/100\n",
      "35/35 [==============================] - 0s 3ms/step - loss: 7.6705e-04\n",
      "Epoch 71/100\n",
      "35/35 [==============================] - 0s 3ms/step - loss: 7.8584e-04\n",
      "Epoch 72/100\n",
      "35/35 [==============================] - 0s 3ms/step - loss: 7.8858e-04\n",
      "Epoch 73/100\n",
      "35/35 [==============================] - 0s 3ms/step - loss: 7.9420e-04\n",
      "Epoch 74/100\n",
      "35/35 [==============================] - 0s 3ms/step - loss: 7.5790e-04\n",
      "Epoch 75/100\n",
      "35/35 [==============================] - 0s 3ms/step - loss: 7.7723e-04\n",
      "Epoch 76/100\n",
      "35/35 [==============================] - 0s 3ms/step - loss: 7.7500e-04\n",
      "Epoch 77/100\n",
      "35/35 [==============================] - 0s 3ms/step - loss: 8.2888e-04\n",
      "Epoch 78/100\n",
      "35/35 [==============================] - 0s 3ms/step - loss: 7.4205e-04\n",
      "Epoch 79/100\n",
      "35/35 [==============================] - 0s 3ms/step - loss: 7.7061e-04\n",
      "Epoch 80/100\n",
      "35/35 [==============================] - 0s 3ms/step - loss: 7.7140e-04\n",
      "Epoch 81/100\n",
      "35/35 [==============================] - 0s 3ms/step - loss: 7.3537e-04\n",
      "Epoch 82/100\n",
      "35/35 [==============================] - 0s 3ms/step - loss: 7.4800e-04\n",
      "Epoch 83/100\n",
      "35/35 [==============================] - 0s 3ms/step - loss: 7.3731e-04\n",
      "Epoch 84/100\n",
      "35/35 [==============================] - 0s 3ms/step - loss: 7.5245e-04\n",
      "Epoch 85/100\n",
      "35/35 [==============================] - 0s 3ms/step - loss: 7.2861e-04\n",
      "Epoch 86/100\n",
      "35/35 [==============================] - 0s 3ms/step - loss: 7.2921e-04\n",
      "Epoch 87/100\n",
      "35/35 [==============================] - 0s 3ms/step - loss: 7.8106e-04\n",
      "Epoch 88/100\n",
      "35/35 [==============================] - 0s 3ms/step - loss: 7.5489e-04\n",
      "Epoch 89/100\n",
      "35/35 [==============================] - 0s 3ms/step - loss: 7.3318e-04\n",
      "Epoch 90/100\n"
     ]
    },
    {
     "name": "stdout",
     "output_type": "stream",
     "text": [
      "35/35 [==============================] - 0s 3ms/step - loss: 7.7184e-04\n",
      "Epoch 91/100\n",
      "35/35 [==============================] - 0s 3ms/step - loss: 7.3152e-04\n",
      "Epoch 92/100\n",
      "35/35 [==============================] - 0s 3ms/step - loss: 7.1972e-04\n",
      "Epoch 93/100\n",
      "35/35 [==============================] - 0s 3ms/step - loss: 7.4476e-04\n",
      "Epoch 94/100\n",
      "35/35 [==============================] - 0s 3ms/step - loss: 7.3718e-04\n",
      "Epoch 95/100\n",
      "35/35 [==============================] - 0s 3ms/step - loss: 7.8696e-04\n",
      "Epoch 96/100\n",
      "35/35 [==============================] - 0s 3ms/step - loss: 7.5128e-04\n",
      "Epoch 97/100\n",
      "35/35 [==============================] - 0s 3ms/step - loss: 7.0579e-04\n",
      "Epoch 98/100\n",
      "35/35 [==============================] - 0s 3ms/step - loss: 7.2515e-04\n",
      "Epoch 99/100\n",
      "35/35 [==============================] - 0s 3ms/step - loss: 7.1995e-04\n",
      "Epoch 100/100\n",
      "35/35 [==============================] - 0s 3ms/step - loss: 7.5204e-04\n"
     ]
    },
    {
     "data": {
      "text/plain": [
       "<keras.callbacks.History at 0x2377fe40400>"
      ]
     },
     "execution_count": 58,
     "metadata": {},
     "output_type": "execute_result"
    }
   ],
   "source": [
    "from keras.models import Sequential\n",
    "from keras.layers import Dense, LSTM\n",
    "\n",
    "model = Sequential()\n",
    "model.add(LSTM(10, activation = 'relu', input_shape=(X_train.shape[1],X_train.shape[2])))\n",
    "model.add(Dense(5))\n",
    "model.add(Dense(1))\n",
    " \n",
    "model.summary()\n",
    " \n",
    "\n",
    "model.compile(optimizer='adam', loss='mse')\n",
    "model.fit(X_train, y_train, epochs=100, batch_size=16)"
   ]
  },
  {
   "cell_type": "markdown",
   "id": "851702c4",
   "metadata": {},
   "source": [
    "### 문제7. 모델을 적합시킨 후 결과를 확인해보세요."
   ]
  },
  {
   "cell_type": "code",
   "execution_count": 59,
   "id": "7c5777f2",
   "metadata": {
    "scrolled": true
   },
   "outputs": [
    {
     "name": "stdout",
     "output_type": "stream",
     "text": [
      "18/18 [==============================] - 0s 1ms/step - loss: 6.9956e-04\n"
     ]
    },
    {
     "data": {
      "text/plain": [
       "0.0006995559087954462"
      ]
     },
     "execution_count": 59,
     "metadata": {},
     "output_type": "execute_result"
    }
   ],
   "source": [
    "model.evaluate(X_train,y_train)"
   ]
  },
  {
   "cell_type": "markdown",
   "id": "de4efb55",
   "metadata": {},
   "source": [
    "### 문제8. 테스트데이터에 대해서 예측 후 결과를 아래와 같이 시각화 해보세요."
   ]
  },
  {
   "cell_type": "code",
   "execution_count": 60,
   "id": "249f9a48",
   "metadata": {},
   "outputs": [
    {
     "name": "stdout",
     "output_type": "stream",
     "text": [
      "2/2 [==============================] - 0s 2ms/step - loss: 3.6105e-04\n"
     ]
    },
    {
     "data": {
      "text/plain": [
       "0.00036104704486206174"
      ]
     },
     "execution_count": 60,
     "metadata": {},
     "output_type": "execute_result"
    }
   ],
   "source": [
    "model.evaluate(X_test,y_test)"
   ]
  },
  {
   "cell_type": "code",
   "execution_count": 66,
   "id": "500bd549",
   "metadata": {
    "scrolled": true
   },
   "outputs": [
    {
     "data": {
      "text/plain": [
       "<matplotlib.legend.Legend at 0x2370336e130>"
      ]
     },
     "execution_count": 66,
     "metadata": {},
     "output_type": "execute_result"
    },
    {
     "data": {
      "image/png": "[encoded data removed]",
      "text/plain": [
       "<Figure size 432x288 with 1 Axes>"
      ]
     },
     "metadata": {
      "needs_background": "light"
     },
     "output_type": "display_data"
    }
   ],
   "source": [
    "plt.plot(np.arange(len(y_test)), y_test)\n",
    "plt.plot(np.arange(len(y_test)), model.predict(X_test))\n",
    "plt.legend(['true y','pred y'])"
   ]
  }
 ],
 "metadata": {
  "kernelspec": {
   "display_name": "Python 3 (ipykernel)",
   "language": "python",
   "name": "python3"
  },
  "language_info": {
   "codemirror_mode": {
    "name": "ipython",
    "version": 3
   },
   "file_extension": ".py",
   "mimetype": "text/x-python",
   "name": "python",
   "nbconvert_exporter": "python",
   "pygments_lexer": "ipython3",
   "version": "3.8.11"
  }
 },
 "nbformat": 4,
 "nbformat_minor": 5
}
